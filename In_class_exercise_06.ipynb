{
  "nbformat": 4,
  "nbformat_minor": 0,
  "metadata": {
    "colab": {
      "name": "In_class_exercise_06.ipynb",
      "provenance": [],
      "collapsed_sections": [],
      "include_colab_link": true
    },
    "kernelspec": {
      "display_name": "Python 3",
      "language": "python",
      "name": "python3"
    },
    "language_info": {
      "codemirror_mode": {
        "name": "ipython",
        "version": 3
      },
      "file_extension": ".py",
      "mimetype": "text/x-python",
      "name": "python",
      "nbconvert_exporter": "python",
      "pygments_lexer": "ipython3",
      "version": "3.8.5"
    }
  },
  "cells": [
    {
      "cell_type": "markdown",
      "metadata": {
        "id": "view-in-github",
        "colab_type": "text"
      },
      "source": [
        "<a href=\"https://colab.research.google.com/github/rushithakondreddy/haihua_INFO5731_Spring2020/blob/main/In_class_exercise_06.ipynb\" target=\"_parent\"><img src=\"https://colab.research.google.com/assets/colab-badge.svg\" alt=\"Open In Colab\"/></a>"
      ]
    },
    {
      "cell_type": "markdown",
      "metadata": {
        "id": "z7TahL04sVvR"
      },
      "source": [
        "# **The sixth in-class-exercise (20 points in total, 3/2/2021)**"
      ]
    },
    {
      "cell_type": "markdown",
      "metadata": {
        "id": "ejyZITr8sjnh"
      },
      "source": [
        "## **1. Rule-based information extraction (10 points)**\n",
        "\n",
        "Use any keywords related to data science, natural language processing, machine learning to search from google scholar, get the **titles** of 100 articles (either by web scraping or manually) about this topic, define a set of patterns to extract the research questions/problems, methods/algorithms/models, datasets, applications, or any other important information about this topic. "
      ]
    },
    {
      "cell_type": "code",
      "metadata": {
        "colab": {
          "base_uri": "https://localhost:8080/",
          "height": 17
        },
        "id": "XvR_O9D8sOUY",
        "outputId": "4524eb9d-9dd0-4a4e-e63b-22e5e3257d45"
      },
      "source": [
        "# Write your code here\r\n",
        "\r\n",
        "from IPython.core.display import display, HTML\r\n",
        "display(HTML('<style>.container { width:80% !important; }</style>'))"
      ],
      "execution_count": 50,
      "outputs": [
        {
          "output_type": "display_data",
          "data": {
            "text/html": [
              "<style>.container { width:80% !important; }</style>"
            ],
            "text/plain": [
              "<IPython.core.display.HTML object>"
            ]
          },
          "metadata": {
            "tags": []
          }
        }
      ]
    },
    {
      "cell_type": "code",
      "metadata": {
        "id": "gICiNQC26eII"
      },
      "source": [
        "from bs4 import BeautifulSoup\r\n",
        "import requests\r\n",
        "import pandas as pd\r\n",
        "import numpy as np"
      ],
      "execution_count": 51,
      "outputs": []
    },
    {
      "cell_type": "code",
      "metadata": {
        "id": "5elLn1A3_jNq"
      },
      "source": [
        "headers = [{'User-Agent' : 'Mozilla/5.0 (Windows NT 10.0; Win64; x64; rv:81.0) Gecko/20100101 Firefox/81.0'},\r\n",
        "           {'User-Agent' : 'Mozilla/5.0 (Windows NT 10.0; Win64; x64) AppleWebKit/537.36 (KHTML, like Gecko) Chrome/86.0.4240.75 Safari/537.36 Vivaldi/3.3'},\r\n",
        "           {'User-Agent' : 'Mozilla/5.0 (Windows NT 10.0) AppleWebKit/537.36 (KHTML, like Gecko) Chrome/86.0.4240.75 Safari/537.36'},\r\n",
        "           {'User-Agent' : 'Mozilla/5.0 (Windows NT 10.0; Win64; x64) AppleWebKit/537.36 (KHTML, like Gecko) Chrome/86.0.4240.75 Safari/537.36 Edg/86.0.622.38'}]\r\n",
        "\r\n",
        "pages = np.arange(1, 11) * 10 \r\n",
        "\r\n",
        "responses = []\r\n",
        "for page in pages:\r\n",
        "    url = 'https://scholar.google.com/scholar?start=' + str(page) + '&q=natural+language+processing&hl=en&as_sdt=0,44'\r\n",
        "    print(f'{page} titles being extracted')\r\n",
        "    random_index = np.random.randint(0, 4)\r\n",
        "    header = headers[random_index]\r\n",
        "    response = requests.get(url, headers=header)\r\n",
        "    if response.status_code == 200:\r\n",
        "        print('Everything is fine. Continue to scrap ...')\r\n",
        "    else:\r\n",
        "        print('Something went wrong!')\r\n",
        "    soup=BeautifulSoup(response.content,'lxml')\r\n",
        "    responses.append(soup)"
      ],
      "execution_count": null,
      "outputs": []
    },
    {
      "cell_type": "markdown",
      "metadata": {
        "id": "95CKqAuX_ljg"
      },
      "source": [
        "\r\n",
        "\r\n",
        "```\r\n",
        "\r\n",
        "10 titles being extracted\r\n",
        "Everything is fine. Continue to scrap ...\r\n",
        "20 titles being extracted\r\n",
        "Everything is fine. Continue to scrap ...\r\n",
        "30 titles being extracted\r\n",
        "Everything is fine. Continue to scrap ...\r\n",
        "40 titles being extracted\r\n",
        "Everything is fine. Continue to scrap ...\r\n",
        "50 titles being extracted\r\n",
        "Everything is fine. Continue to scrap ...\r\n",
        "60 titles being extracted\r\n",
        "Everything is fine. Continue to scrap ...\r\n",
        "70 titles being extracted\r\n",
        "Everything is fine. Continue to scrap ...\r\n",
        "80 titles being extracted\r\n",
        "Everything is fine. Continue to scrap ...\r\n",
        "90 titles being extracted\r\n",
        "Everything is fine. Continue to scrap ...\r\n",
        "100 titles being extracted\r\n",
        "Everything is fine. Continue to scrap ...\r\n",
        "```\r\n",
        "\r\n"
      ]
    },
    {
      "cell_type": "code",
      "metadata": {
        "id": "6wn3TXdM6ddb"
      },
      "source": [
        "titles = []\r\n",
        "count = 1\r\n",
        "for response in responses:\r\n",
        "    for item in response.select('[data-lid]'):\r\n",
        "        try:\r\n",
        "            print('-----------' + str(count) + '-----------------------------')\r\n",
        "            titles.append(item.select('h3')[0].get_text())\r\n",
        "        except Exception as error:\r\n",
        "            print('Something went wrong!')\r\n",
        "        count += 1"
      ],
      "execution_count": 55,
      "outputs": []
    },
    {
      "cell_type": "markdown",
      "metadata": {
        "id": "Zav_oRLp_zti"
      },
      "source": [
        "\r\n",
        "\r\n",
        "```\r\n",
        "-----------1-----------------------------\r\n",
        "-----------2-----------------------------\r\n",
        "-----------3-----------------------------\r\n",
        "-----------4-----------------------------\r\n",
        "-----------5-----------------------------\r\n",
        "-----------6-----------------------------\r\n",
        "-----------7-----------------------------\r\n",
        "-----------8-----------------------------\r\n",
        "-----------9-----------------------------\r\n",
        "-----------10-----------------------------\r\n",
        "-----------11-----------------------------\r\n",
        "-----------12-----------------------------\r\n",
        "-----------13-----------------------------\r\n",
        "-----------14-----------------------------\r\n",
        "-----------15-----------------------------\r\n",
        "-----------16-----------------------------\r\n",
        "-----------17-----------------------------\r\n",
        "-----------18-----------------------------\r\n",
        "-----------19-----------------------------\r\n",
        "-----------20-----------------------------\r\n",
        "-----------21-----------------------------\r\n",
        "-----------22-----------------------------\r\n",
        "-----------23-----------------------------\r\n",
        "-----------24-----------------------------\r\n",
        "-----------25-----------------------------\r\n",
        "-----------26-----------------------------\r\n",
        "-----------27-----------------------------\r\n",
        "-----------28-----------------------------\r\n",
        "-----------29-----------------------------\r\n",
        "-----------30-----------------------------\r\n",
        "-----------31-----------------------------\r\n",
        "-----------32-----------------------------\r\n",
        "-----------33-----------------------------\r\n",
        "-----------34-----------------------------\r\n",
        "-----------35-----------------------------\r\n",
        "-----------36-----------------------------\r\n",
        "-----------37-----------------------------\r\n",
        "-----------38-----------------------------\r\n",
        "-----------39-----------------------------\r\n",
        "-----------40-----------------------------\r\n",
        "-----------41-----------------------------\r\n",
        "-----------42-----------------------------\r\n",
        "-----------43-----------------------------\r\n",
        "-----------44-----------------------------\r\n",
        "-----------45-----------------------------\r\n",
        "-----------46-----------------------------\r\n",
        "-----------47-----------------------------\r\n",
        "-----------48-----------------------------\r\n",
        "-----------49-----------------------------\r\n",
        "-----------50-----------------------------\r\n",
        "-----------51-----------------------------\r\n",
        "-----------52-----------------------------\r\n",
        "-----------53-----------------------------\r\n",
        "-----------54-----------------------------\r\n",
        "-----------55-----------------------------\r\n",
        "-----------56-----------------------------\r\n",
        "-----------57-----------------------------\r\n",
        "-----------58-----------------------------\r\n",
        "-----------59-----------------------------\r\n",
        "-----------60-----------------------------\r\n",
        "-----------61-----------------------------\r\n",
        "-----------62-----------------------------\r\n",
        "-----------63-----------------------------\r\n",
        "-----------64-----------------------------\r\n",
        "-----------65-----------------------------\r\n",
        "-----------66-----------------------------\r\n",
        "-----------67-----------------------------\r\n",
        "-----------68-----------------------------\r\n",
        "-----------69-----------------------------\r\n",
        "-----------70-----------------------------\r\n",
        "-----------71-----------------------------\r\n",
        "-----------72-----------------------------\r\n",
        "-----------73-----------------------------\r\n",
        "-----------74-----------------------------\r\n",
        "-----------75-----------------------------\r\n",
        "-----------76-----------------------------\r\n",
        "-----------77-----------------------------\r\n",
        "-----------78-----------------------------\r\n",
        "-----------79-----------------------------\r\n",
        "-----------80-----------------------------\r\n",
        "-----------81-----------------------------\r\n",
        "-----------82-----------------------------\r\n",
        "-----------83-----------------------------\r\n",
        "-----------84-----------------------------\r\n",
        "-----------85-----------------------------\r\n",
        "-----------86-----------------------------\r\n",
        "-----------87-----------------------------\r\n",
        "-----------88-----------------------------\r\n",
        "-----------89-----------------------------\r\n",
        "-----------90-----------------------------\r\n",
        "-----------91-----------------------------\r\n",
        "-----------92-----------------------------\r\n",
        "-----------93-----------------------------\r\n",
        "-----------94-----------------------------\r\n",
        "-----------95-----------------------------\r\n",
        "-----------96-----------------------------\r\n",
        "-----------97-----------------------------\r\n",
        "-----------98-----------------------------\r\n",
        "-----------99-----------------------------\r\n",
        "-----------100-----------------------------\r\n",
        "```\r\n",
        "\r\n"
      ]
    },
    {
      "cell_type": "code",
      "metadata": {
        "id": "rATFQHVH6_c1"
      },
      "source": [
        "df = pd.DataFrame({'titles' : titles})\r\n",
        "df.head()"
      ],
      "execution_count": null,
      "outputs": []
    },
    {
      "cell_type": "markdown",
      "metadata": {
        "id": "mbyZ_OqOAEVA"
      },
      "source": [
        "![Capture.PNG](data:image/png;base64,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)"
      ]
    },
    {
      "cell_type": "markdown",
      "metadata": {
        "id": "Dq_7VGmrsum4"
      },
      "source": [
        "## **2. Domain-specific information extraction (10 points)**\n",
        "\n",
        "For the legal case used in the data cleaning exercise: [01-05-1 Adams v Tanner.txt](https://raw.githubusercontent.com/unt-iialab/info5731_spring2021/main/class_exercises/01-05-1%20%20Adams%20v%20Tanner.txt), use [legalNLP](https://lexpredict-lexnlp.readthedocs.io/en/latest/modules/extract/extract.html#nlp-based-extraction-methods) to extract the following inforation from the text (if the information is not exist, just print None):\n",
        "\n",
        "(1) acts, e.g., “section 1 of the Advancing Hope Act, 1986”\n",
        "\n",
        "(2) amounts, e.g., “ten pounds” or “5.8 megawatts”\n",
        "\n",
        "(3) citations, e.g., “10 U.S. 100” or “1998 S. Ct. 1”\n",
        "\n",
        "(4) companies, e.g., “Lexpredict LLC”\n",
        "\n",
        "(5) conditions, e.g., “subject to …” or “unless and until …”\n",
        "\n",
        "(6) constraints, e.g., “no more than”\n",
        "\n",
        "(7) copyright, e.g., “(C) Copyright 2000 Acme”\n",
        "\n",
        "(8) courts, e.g., “Supreme Court of New York”\n",
        "\n",
        "(9) CUSIP, e.g., “392690QT3”\n",
        "\n",
        "(10) dates, e.g., “June 1, 2017” or “2018-01-01”\n",
        "\n",
        "(11) definitions, e.g., “Term shall mean …”\n",
        "\n",
        "(12) distances, e.g., “fifteen miles”\n",
        "\n",
        "(13) durations, e.g., “ten years” or “thirty days”\n",
        "\n",
        "(14) geographic and geopolitical entities, e.g., “New York” or “Norway”\n",
        "\n",
        "(15) money and currency usages, e.g., “$5” or “10 Euro”\n",
        "\n",
        "(16) percents and rates, e.g., “10%” or “50 bps”\n",
        "\n",
        "(17) PII, e.g., “212-212-2121” or “999-999-9999”\n",
        "\n",
        "(18) ratios, e.g.,” 3:1” or “four to three”\n",
        "\n",
        "(19) regulations, e.g., “32 CFR 170”\n",
        "\n",
        "(20) trademarks, e.g., “MyApp (TM)”\n",
        "\n",
        "(21) URLs, e.g., “http://acme.com/”\n",
        "\n",
        "(22) addresses, e.g., “1999 Mount Read Blvd, Rochester, NY, USA, 14615”\n",
        "\n",
        "(23) persons, e.g., “John Doe"
      ]
    },
    {
      "cell_type": "code",
      "metadata": {
        "colab": {
          "base_uri": "https://localhost:8080/",
          "height": 1000
        },
        "id": "QYShnWOy8AVt",
        "outputId": "862d52f1-35dc-4bb9-9780-6e5bc646a5f0"
      },
      "source": [
        "!pip install lexnlp"
      ],
      "execution_count": 9,
      "outputs": [
        {
          "output_type": "stream",
          "text": [
            "Collecting lexnlp\n",
            "\u001b[?25l  Downloading https://files.pythonhosted.org/packages/59/8f/775b5718bdee8b11bb06a4a49172abec78f9e94b865a7382b3b7d5f69cc5/lexnlp-1.8.0-py3-none-any.whl (9.8MB)\n",
            "\u001b[K     |████████████████████████████████| 9.8MB 4.8MB/s \n",
            "\u001b[?25hCollecting pycountry==20.7.3\n",
            "\u001b[?25l  Downloading https://files.pythonhosted.org/packages/76/73/6f1a412f14f68c273feea29a6ea9b9f1e268177d32e0e69ad6790d306312/pycountry-20.7.3.tar.gz (10.1MB)\n",
            "\u001b[K     |████████████████████████████████| 10.1MB 22.2MB/s \n",
            "\u001b[?25hCollecting gensim==3.8.3\n",
            "\u001b[?25l  Downloading https://files.pythonhosted.org/packages/5c/4e/afe2315e08a38967f8a3036bbe7e38b428e9b7a90e823a83d0d49df1adf5/gensim-3.8.3-cp37-cp37m-manylinux1_x86_64.whl (24.2MB)\n",
            "\u001b[K     |████████████████████████████████| 24.2MB 1.7MB/s \n",
            "\u001b[?25hCollecting pandas==0.24.2\n",
            "\u001b[?25l  Downloading https://files.pythonhosted.org/packages/22/e6/2d47835f91eb010036be207581fa113fb4e3822ec1b4bafb0d3d105fede6/pandas-0.24.2-cp37-cp37m-manylinux1_x86_64.whl (10.1MB)\n",
            "\u001b[K     |████████████████████████████████| 10.1MB 42.2MB/s \n",
            "\u001b[?25hCollecting scipy==1.5.1\n",
            "\u001b[?25l  Downloading https://files.pythonhosted.org/packages/30/45/ff9df4beceab76f979ee0ea7f5d248596aa5b0c179aa3d30589a3f4549eb/scipy-1.5.1-cp37-cp37m-manylinux1_x86_64.whl (25.9MB)\n",
            "\u001b[K     |████████████████████████████████| 25.9MB 64.4MB/s \n",
            "\u001b[?25hCollecting reporters-db==2.0.3\n",
            "\u001b[?25l  Downloading https://files.pythonhosted.org/packages/6b/e9/498bada93e69e3162a027d9285e852c464d66aae23ec3c845700ee117414/reporters_db-2.0.3-py2.py3-none-any.whl (72kB)\n",
            "\u001b[K     |████████████████████████████████| 81kB 8.9MB/s \n",
            "\u001b[?25hCollecting joblib==0.14.0\n",
            "\u001b[?25l  Downloading https://files.pythonhosted.org/packages/8f/42/155696f85f344c066e17af287359c9786b436b1bf86029bb3411283274f3/joblib-0.14.0-py2.py3-none-any.whl (294kB)\n",
            "\u001b[K     |████████████████████████████████| 296kB 42.5MB/s \n",
            "\u001b[?25hCollecting dateparser==0.7.2\n",
            "\u001b[?25l  Downloading https://files.pythonhosted.org/packages/82/9d/51126ac615bbc4418478d725a5fa1a0f112059f6f111e4b48cfbe17ef9d0/dateparser-0.7.2-py2.py3-none-any.whl (352kB)\n",
            "\u001b[K     |████████████████████████████████| 358kB 53.3MB/s \n",
            "\u001b[?25hCollecting requests==2.24.0\n",
            "\u001b[?25l  Downloading https://files.pythonhosted.org/packages/45/1e/0c169c6a5381e241ba7404532c16a21d86ab872c9bed8bdcd4c423954103/requests-2.24.0-py2.py3-none-any.whl (61kB)\n",
            "\u001b[K     |████████████████████████████████| 71kB 7.7MB/s \n",
            "\u001b[?25hCollecting num2words==0.5.10\n",
            "\u001b[?25l  Downloading https://files.pythonhosted.org/packages/eb/a2/ea800689730732e27711c41beed4b2a129b34974435bdc450377ec407738/num2words-0.5.10-py3-none-any.whl (101kB)\n",
            "\u001b[K     |████████████████████████████████| 102kB 9.6MB/s \n",
            "\u001b[?25hCollecting scikit-learn==0.23.1\n",
            "\u001b[?25l  Downloading https://files.pythonhosted.org/packages/b8/7e/74e707b66490d4eb05f702966ad0990881127acecf9d5cdcef3c95ec6c16/scikit_learn-0.23.1-cp37-cp37m-manylinux1_x86_64.whl (6.8MB)\n",
            "\u001b[K     |████████████████████████████████| 6.8MB 34.7MB/s \n",
            "\u001b[?25hCollecting nltk==3.5\n",
            "\u001b[?25l  Downloading https://files.pythonhosted.org/packages/92/75/ce35194d8e3022203cca0d2f896dbb88689f9b3fce8e9f9cff942913519d/nltk-3.5.zip (1.4MB)\n",
            "\u001b[K     |████████████████████████████████| 1.4MB 39.3MB/s \n",
            "\u001b[?25hCollecting numpy==1.19.1\n",
            "\u001b[?25l  Downloading https://files.pythonhosted.org/packages/50/8f/29d5688614f9bba59931683d5d353d738d4a3007833219ee19c455732753/numpy-1.19.1-cp37-cp37m-manylinux2010_x86_64.whl (14.5MB)\n",
            "\u001b[K     |████████████████████████████████| 14.5MB 337kB/s \n",
            "\u001b[?25hCollecting regex==2020.7.14\n",
            "\u001b[?25l  Downloading https://files.pythonhosted.org/packages/c7/10/a5f40a296a199dda90432ba0af4dc4221aa5cde31c62b6088c88df971e9e/regex-2020.7.14-cp37-cp37m-manylinux2010_x86_64.whl (660kB)\n",
            "\u001b[K     |████████████████████████████████| 665kB 31.6MB/s \n",
            "\u001b[?25hCollecting us==2.0.2\n",
            "  Downloading https://files.pythonhosted.org/packages/88/04/04323aefa1871de30286d3decae7706481c73bd428cf0c08e158bfa259a6/us-2.0.2.tar.gz\n",
            "Collecting Unidecode==1.1.1\n",
            "\u001b[?25l  Downloading https://files.pythonhosted.org/packages/d0/42/d9edfed04228bacea2d824904cae367ee9efd05e6cce7ceaaedd0b0ad964/Unidecode-1.1.1-py2.py3-none-any.whl (238kB)\n",
            "\u001b[K     |████████████████████████████████| 245kB 29.2MB/s \n",
            "\u001b[?25hCollecting datefinder-lexpredict==0.6.2.1\n",
            "  Downloading https://files.pythonhosted.org/packages/45/d1/e80c60a7c23a4b16338f33345be45c64bd6ff4ef5ab67350b8c94325b8b6/datefinder_lexpredict-0.6.2.1-py2.py3-none-any.whl\n",
            "Requirement already satisfied: six>=1.5.0 in /usr/local/lib/python3.7/dist-packages (from gensim==3.8.3->lexnlp) (1.15.0)\n",
            "Requirement already satisfied: smart-open>=1.8.1 in /usr/local/lib/python3.7/dist-packages (from gensim==3.8.3->lexnlp) (4.2.0)\n",
            "Requirement already satisfied: python-dateutil>=2.5.0 in /usr/local/lib/python3.7/dist-packages (from pandas==0.24.2->lexnlp) (2.8.1)\n",
            "Requirement already satisfied: pytz>=2011k in /usr/local/lib/python3.7/dist-packages (from pandas==0.24.2->lexnlp) (2018.9)\n",
            "Requirement already satisfied: tzlocal in /usr/local/lib/python3.7/dist-packages (from dateparser==0.7.2->lexnlp) (1.5.1)\n",
            "Requirement already satisfied: urllib3!=1.25.0,!=1.25.1,<1.26,>=1.21.1 in /usr/local/lib/python3.7/dist-packages (from requests==2.24.0->lexnlp) (1.24.3)\n",
            "Requirement already satisfied: certifi>=2017.4.17 in /usr/local/lib/python3.7/dist-packages (from requests==2.24.0->lexnlp) (2020.12.5)\n",
            "Requirement already satisfied: chardet<4,>=3.0.2 in /usr/local/lib/python3.7/dist-packages (from requests==2.24.0->lexnlp) (3.0.4)\n",
            "Requirement already satisfied: idna<3,>=2.5 in /usr/local/lib/python3.7/dist-packages (from requests==2.24.0->lexnlp) (2.10)\n",
            "Requirement already satisfied: docopt>=0.6.2 in /usr/local/lib/python3.7/dist-packages (from num2words==0.5.10->lexnlp) (0.6.2)\n",
            "Collecting threadpoolctl>=2.0.0\n",
            "  Downloading https://files.pythonhosted.org/packages/f7/12/ec3f2e203afa394a149911729357aa48affc59c20e2c1c8297a60f33f133/threadpoolctl-2.1.0-py3-none-any.whl\n",
            "Requirement already satisfied: click in /usr/local/lib/python3.7/dist-packages (from nltk==3.5->lexnlp) (7.1.2)\n",
            "Requirement already satisfied: tqdm in /usr/local/lib/python3.7/dist-packages (from nltk==3.5->lexnlp) (4.41.1)\n",
            "Collecting jellyfish==0.6.1\n",
            "\u001b[?25l  Downloading https://files.pythonhosted.org/packages/61/3f/60ac86fb43dfbf976768e80674b5538e535f6eca5aa7806cf2fdfd63550f/jellyfish-0.6.1.tar.gz (132kB)\n",
            "\u001b[K     |████████████████████████████████| 133kB 44.8MB/s \n",
            "\u001b[?25hBuilding wheels for collected packages: pycountry, nltk, us, jellyfish\n",
            "  Building wheel for pycountry (setup.py) ... \u001b[?25l\u001b[?25hdone\n",
            "  Created wheel for pycountry: filename=pycountry-20.7.3-py2.py3-none-any.whl size=10746863 sha256=60a88ccf797ed17286d728ac8c32ffcfcd518ffba3821f86fd5fd9674d156df8\n",
            "  Stored in directory: /root/.cache/pip/wheels/33/4e/a6/be297e6b83567e537bed9df4a93f8590ec01c1acfbcd405348\n",
            "  Building wheel for nltk (setup.py) ... \u001b[?25l\u001b[?25hdone\n",
            "  Created wheel for nltk: filename=nltk-3.5-cp37-none-any.whl size=1434675 sha256=87ab3a07e378d330996c9d836df2f8bac6cdff8a5399dd5c911ca929b6cfe147\n",
            "  Stored in directory: /root/.cache/pip/wheels/ae/8c/3f/b1fe0ba04555b08b57ab52ab7f86023639a526d8bc8d384306\n",
            "  Building wheel for us (setup.py) ... \u001b[?25l\u001b[?25hdone\n",
            "  Created wheel for us: filename=us-2.0.2-cp37-none-any.whl size=11929 sha256=7f45ff21e06c3358306e7da9123d6301531c3de6011e017c6c586015a3a23394\n",
            "  Stored in directory: /root/.cache/pip/wheels/e2/16/45/6453383ffa495670f0f6b80a3e697a9771d98cfbaf8b451e73\n",
            "  Building wheel for jellyfish (setup.py) ... \u001b[?25l\u001b[?25hdone\n",
            "  Created wheel for jellyfish: filename=jellyfish-0.6.1-cp37-cp37m-linux_x86_64.whl size=72134 sha256=4947dc0b7d8d917faee46a78d572747e8255296d4d1c9521fe76cd14341796a3\n",
            "  Stored in directory: /root/.cache/pip/wheels/9c/6f/33/92bb9a4b4562a60ba6a80cedbab8907e48bc7a8b1f369ea0ae\n",
            "Successfully built pycountry nltk us jellyfish\n",
            "\u001b[31mERROR: xarray 0.15.1 has requirement pandas>=0.25, but you'll have pandas 0.24.2 which is incompatible.\u001b[0m\n",
            "\u001b[31mERROR: tensorflow 2.4.1 has requirement numpy~=1.19.2, but you'll have numpy 1.19.1 which is incompatible.\u001b[0m\n",
            "\u001b[31mERROR: plotnine 0.6.0 has requirement pandas>=0.25.0, but you'll have pandas 0.24.2 which is incompatible.\u001b[0m\n",
            "\u001b[31mERROR: mizani 0.6.0 has requirement pandas>=0.25.0, but you'll have pandas 0.24.2 which is incompatible.\u001b[0m\n",
            "\u001b[31mERROR: google-colab 1.0.0 has requirement pandas~=1.1.0; python_version >= \"3.0\", but you'll have pandas 0.24.2 which is incompatible.\u001b[0m\n",
            "\u001b[31mERROR: google-colab 1.0.0 has requirement requests~=2.23.0, but you'll have requests 2.24.0 which is incompatible.\u001b[0m\n",
            "\u001b[31mERROR: fbprophet 0.7.1 has requirement pandas>=1.0.4, but you'll have pandas 0.24.2 which is incompatible.\u001b[0m\n",
            "\u001b[31mERROR: datascience 0.10.6 has requirement folium==0.2.1, but you'll have folium 0.8.3 which is incompatible.\u001b[0m\n",
            "\u001b[31mERROR: albumentations 0.1.12 has requirement imgaug<0.2.7,>=0.2.5, but you'll have imgaug 0.2.9 which is incompatible.\u001b[0m\n",
            "Installing collected packages: pycountry, numpy, scipy, gensim, pandas, reporters-db, joblib, regex, dateparser, requests, num2words, threadpoolctl, scikit-learn, nltk, jellyfish, us, Unidecode, datefinder-lexpredict, lexnlp\n",
            "  Found existing installation: numpy 1.19.5\n",
            "    Uninstalling numpy-1.19.5:\n",
            "      Successfully uninstalled numpy-1.19.5\n",
            "  Found existing installation: scipy 1.4.1\n",
            "    Uninstalling scipy-1.4.1:\n",
            "      Successfully uninstalled scipy-1.4.1\n",
            "  Found existing installation: gensim 3.6.0\n",
            "    Uninstalling gensim-3.6.0:\n",
            "      Successfully uninstalled gensim-3.6.0\n",
            "  Found existing installation: pandas 1.1.5\n",
            "    Uninstalling pandas-1.1.5:\n",
            "      Successfully uninstalled pandas-1.1.5\n",
            "  Found existing installation: joblib 1.0.1\n",
            "    Uninstalling joblib-1.0.1:\n",
            "      Successfully uninstalled joblib-1.0.1\n",
            "  Found existing installation: regex 2019.12.20\n",
            "    Uninstalling regex-2019.12.20:\n",
            "      Successfully uninstalled regex-2019.12.20\n",
            "  Found existing installation: requests 2.23.0\n",
            "    Uninstalling requests-2.23.0:\n",
            "      Successfully uninstalled requests-2.23.0\n",
            "  Found existing installation: scikit-learn 0.22.2.post1\n",
            "    Uninstalling scikit-learn-0.22.2.post1:\n",
            "      Successfully uninstalled scikit-learn-0.22.2.post1\n",
            "  Found existing installation: nltk 3.2.5\n",
            "    Uninstalling nltk-3.2.5:\n",
            "      Successfully uninstalled nltk-3.2.5\n",
            "Successfully installed Unidecode-1.1.1 datefinder-lexpredict-0.6.2.1 dateparser-0.7.2 gensim-3.8.3 jellyfish-0.6.1 joblib-0.14.0 lexnlp-1.8.0 nltk-3.5 num2words-0.5.10 numpy-1.19.1 pandas-0.24.2 pycountry-20.7.3 regex-2020.7.14 reporters-db-2.0.3 requests-2.24.0 scikit-learn-0.23.1 scipy-1.5.1 threadpoolctl-2.1.0 us-2.0.2\n"
          ],
          "name": "stdout"
        },
        {
          "output_type": "display_data",
          "data": {
            "application/vnd.colab-display-data+json": {
              "pip_warning": {
                "packages": [
                  "numpy",
                  "pandas",
                  "requests"
                ]
              }
            }
          },
          "metadata": {
            "tags": []
          }
        }
      ]
    },
    {
      "cell_type": "code",
      "metadata": {
        "id": "XXvtoF6m8JwP"
      },
      "source": [
        ""
      ],
      "execution_count": null,
      "outputs": []
    },
    {
      "cell_type": "code",
      "metadata": {
        "id": "qc7NtJrLx5tS"
      },
      "source": [
        "# write your code here\r\n",
        "import lexnlp\r\n",
        "import re"
      ],
      "execution_count": 10,
      "outputs": []
    },
    {
      "cell_type": "code",
      "metadata": {
        "id": "AQAvTdxb7MjP"
      },
      "source": [
        "with open('01-05-1  Adams v Tanner.txt', 'r', encoding=\"utf8\") as file:\r\n",
        "    text = file.read()\r\n"
      ],
      "execution_count": 11,
      "outputs": []
    },
    {
      "cell_type": "code",
      "metadata": {
        "id": "LT1JmieU7Mf7"
      },
      "source": [
        "text = re.sub(r'\\n',' ', str(text))\r\n"
      ],
      "execution_count": 12,
      "outputs": []
    },
    {
      "cell_type": "code",
      "metadata": {
        "colab": {
          "base_uri": "https://localhost:8080/"
        },
        "id": "1HCBpFCZ7Mdz",
        "outputId": "7f95d6fb-a1ee-44f9-8d8f-dd439628a7d5"
      },
      "source": [
        "import lexnlp.extract.en.acts\r\n",
        "lexnlp.extract.en.acts.get_act_list(text)"
      ],
      "execution_count": 13,
      "outputs": [
        {
          "output_type": "execute_result",
          "data": {
            "text/plain": [
              "[]"
            ]
          },
          "metadata": {
            "tags": []
          },
          "execution_count": 13
        }
      ]
    },
    {
      "cell_type": "code",
      "metadata": {
        "colab": {
          "base_uri": "https://localhost:8080/"
        },
        "id": "HsNnKUTu8bnV",
        "outputId": "36690824-f0ee-4f76-f806-6a2b02bc2ea9"
      },
      "source": [
        "import nltk\r\n",
        "nltk.download('punkt')"
      ],
      "execution_count": 15,
      "outputs": [
        {
          "output_type": "stream",
          "text": [
            "[nltk_data] Downloading package punkt to /root/nltk_data...\n",
            "[nltk_data]   Unzipping tokenizers/punkt.zip.\n"
          ],
          "name": "stderr"
        },
        {
          "output_type": "execute_result",
          "data": {
            "text/plain": [
              "True"
            ]
          },
          "metadata": {
            "tags": []
          },
          "execution_count": 15
        }
      ]
    },
    {
      "cell_type": "code",
      "metadata": {
        "colab": {
          "base_uri": "https://localhost:8080/"
        },
        "id": "_aWvUGT28h0l",
        "outputId": "5c54cc6a-59d5-4aaf-a5b3-265926d149ce"
      },
      "source": [
        "nltk.download('averaged_perceptron_tagger')"
      ],
      "execution_count": 17,
      "outputs": [
        {
          "output_type": "stream",
          "text": [
            "[nltk_data] Downloading package averaged_perceptron_tagger to\n",
            "[nltk_data]     /root/nltk_data...\n",
            "[nltk_data]   Unzipping taggers/averaged_perceptron_tagger.zip.\n"
          ],
          "name": "stderr"
        },
        {
          "output_type": "execute_result",
          "data": {
            "text/plain": [
              "True"
            ]
          },
          "metadata": {
            "tags": []
          },
          "execution_count": 17
        }
      ]
    },
    {
      "cell_type": "code",
      "metadata": {
        "colab": {
          "base_uri": "https://localhost:8080/"
        },
        "id": "EPdWt2dQ8lEx",
        "outputId": "91ca56c7-9b71-4f88-baff-de254656247e"
      },
      "source": [
        "nltk.download('wordnet')"
      ],
      "execution_count": 19,
      "outputs": [
        {
          "output_type": "stream",
          "text": [
            "[nltk_data] Downloading package wordnet to /root/nltk_data...\n",
            "[nltk_data]   Unzipping corpora/wordnet.zip.\n"
          ],
          "name": "stderr"
        },
        {
          "output_type": "execute_result",
          "data": {
            "text/plain": [
              "True"
            ]
          },
          "metadata": {
            "tags": []
          },
          "execution_count": 19
        }
      ]
    },
    {
      "cell_type": "code",
      "metadata": {
        "colab": {
          "base_uri": "https://localhost:8080/"
        },
        "id": "FberfFL67Mao",
        "outputId": "38f0d4b3-88b9-46da-d436-21bd27702b14"
      },
      "source": [
        "# amounts\r\n",
        "import lexnlp.extract.en.amounts\r\n",
        "for amount in list(lexnlp.extract.en.amounts.get_amounts(text)):\r\n",
        "    print(amount, end=', ')"
      ],
      "execution_count": 20,
      "outputs": [
        {
          "output_type": "stream",
          "text": [
            "5.0, 740.0, 1843.0, 2.0, 1.0, 4.0, 2.0, 1821.0, 5.0, 1.0, 1840.0, 3777.0, 80.0, 100.0, 30.0, 1839.0, 741.0, 22.0, 1840.0, 14000.0, 120.0, 1.0, 1840.0, 3.0, 4.0, 1.0, 1.0, 1840.0, 2.0, 1.0, 361.0, 1.0, 307.0, 6.0, 604.0, 1.0, 2.0, 418.0, 422.0, 7.0, 34.0, 41.0, 167.0, 742.0, 3.0, 112.0, 207.0, 3.0, 338.0, 424.0, 5.0, 26.0, 13.0, 235.0, 8.0, 693.0, 4.0, 1821.0, 167.0, 2.0, 2.0, 216.0, 3.0, 66.0, 4.0, 130.0, 29.0, 2.0, 241.0, 2.0, 332.0, 2.0, 422.0, 9.0, 112.0, 743.0, 9.0, 39.0, 14000.0, 1840.0, 744.0, 5.0, 182.0, 3.0, 368.0, 1.0, 397.0, 6.0, 604.0, 1.0, 1821.0, 167.0, 745.0, 4.0, 746.0, 4.0, 210.0, 46.0, 747.0, 5.0, 5.0, 740.0, 1843.0, 284.0, 2019.0, 9.0, 1.0, 55.0, 266.0, 271.0, 1876.0, 2.0, 47.0, 362.0, 376.0, 1872.0, 3.0, 45.0, 329.0, 334.0, 1871.0, 4.0, 31.0, 526.0, 527.0, 1858.0, 5.0, 21.0, 333.0, 335.0, 1852.0, 6.0, 8.0, 145.0, 147.0, 1857.0, 7.0, 65.0, 256.0, 258.0, 3.0, 1880.0, 8.0, 4.0, 913.0, 914.0, 1887.0, 9.0, 103.0, 464.0, 1936.0, 3.0, 1.0, 9.0, 39.0, 1828.0, 2.0, 2.0, 5.0, 182.0, 1837.0, 2.0, 3.0, 9.0, 108.0, 1812.0, 6.0, 1.0, 2.0, "
          ],
          "name": "stdout"
        }
      ]
    },
    {
      "cell_type": "code",
      "metadata": {
        "colab": {
          "base_uri": "https://localhost:8080/"
        },
        "id": "nIim-5No7MYo",
        "outputId": "51a761f4-74c5-4ab9-dabe-289637331dd6"
      },
      "source": [
        "\r\n",
        "import lexnlp.extract.en.citations\r\n",
        "_ = [print(citation) for citation in list(lexnlp.extract.en.citations.get_citations(text))]"
      ],
      "execution_count": 21,
      "outputs": [
        {
          "output_type": "stream",
          "text": [
            "(5, 'Ala.', 'Alabama Reports', 740, None, None, None)\n",
            "(5, 'Ala.', 'Alabama Reports', 740, '1843', None, None)\n",
            "(55, 'Ala.', 'Alabama Reports', 266, '271', None, None)\n",
            "(47, 'Ala.', 'Alabama Reports', 362, '376', None, None)\n",
            "(45, 'Ala.', 'Alabama Reports', 329, '334', None, None)\n",
            "(31, 'Ala.', 'Alabama Reports', 526, '527', None, None)\n",
            "(21, 'Ala.', 'Alabama Reports', 333, '335', None, None)\n",
            "(8, 'Cal.', 'California Reports', 145, '147', None, None)\n",
            "(65, 'Ala.', 'Alabama Reports', 256, '258', None, None)\n",
            "(4, 'S.W.', 'South Western Reporter', 913, '914', None, None)\n",
            "(103, 'A.L.R.', 'American Law Reports', 464, None, None, None)\n",
            "(9, 'Cow.', \"Cowen's Reports\", 39, None, None, None)\n",
            "(5, 'Port.', 'Alabama Reports, Porter', 182, None, None, None)\n",
            "(9, 'Johns.', \"Johnson's Reports\", 108, None, None, None)\n"
          ],
          "name": "stdout"
        }
      ]
    },
    {
      "cell_type": "code",
      "metadata": {
        "colab": {
          "base_uri": "https://localhost:8080/"
        },
        "id": "kpzBHZ6h7MWC",
        "outputId": "93b63c5e-4fc1-4818-bfe0-9f541b787065"
      },
      "source": [
        "import lexnlp.extract.en.entities.nltk_re\r\n",
        "_ = [print(company) for company in list(lexnlp.extract.en.entities.nltk_re.get_companies(text))]"
      ],
      "execution_count": 22,
      "outputs": [
        {
          "output_type": "stream",
          "text": [
            "Lehman, Durr Co, (17983, 18001)\n"
          ],
          "name": "stdout"
        }
      ]
    },
    {
      "cell_type": "code",
      "metadata": {
        "colab": {
          "base_uri": "https://localhost:8080/"
        },
        "id": "VckRAGwd7MT8",
        "outputId": "a7eecbde-5e35-4404-a02a-956c3e746fbd"
      },
      "source": [
        "import lexnlp.extract.en.conditions\r\n",
        "_ = [print(condition) for condition in list(lexnlp.extract.en.conditions.get_conditions(text))]"
      ],
      "execution_count": 23,
      "outputs": [
        {
          "output_type": "stream",
          "text": [
            "('until', '4 Cases that cite this headnote  [2] Creditors’ Remedies Lien and Priority Under St.1821, prohibiting a levy on a crop', '')\n",
            "('until', 'on a growing crop, nor does such lien attach', '')\n",
            "('if', 'It was proved by the claimants, by the production of a written contract, that Harrison, on the twenty-second of May, 1840, in consideration that the claimants were involved, as indorsers for Burton & Harrison of Sumter county, and were then exposed to an execution, amounting to upwards of fourteen thousand dollars, bargained and sold to the claimants all his growing crop of cotton &c., consisting of one hundred and twenty acres, &c. Allen Harrison promised and obliged himself to give up his crop to the use of the claimants at any time to save them from suffering as his indorsers;', '')\n",
            "('when', 'The claimants came from Tennessee, (where they resided) about the first of September, 1840, bringing with them three or four white laborers, and took possession of the crop and slaves, and with the latter, and white laborers, gathered the cotton, prepared it for market, and', '')\n",
            "('if', 'The court charged the jury, that the plaintiff had no lien by virtue of his judgment, and execution on the growing crop; that Harrison had a right to convey it, without being in any manner restrained by them; that the writing adduced, was a sale of the crop, but', '')\n",
            "('when', 'it was not, and the lien of the fieri facias would have attached upon it,', '')\n",
            "('if', 'gathered, yet', '')\n",
            "('not subject to', 'the claimants obtained possession on the first of September, and controlled the gathering of the crop, then no lien attached, and it was', '')\n",
            "('until', 'Rep, 693;] and', '')\n",
            "('until', '167,] which declares it to be lawful to levy an execution on a planted crop,', '')\n",
            "('if', 'It is admitted that the contract between the defendant in execution, and the claimants, was in good faith,', '')\n",
            "('when', 'The defendant in execution might at any time have divested the interest which the contract vested in the claimants, by discharging their liability as his indorsers, or a judgment creditor might have satisfied the lien, and', '')\n",
            "('unless', 'We will then consider the writing under which the claimants assert a right, as a mortgage with a power to take possession any time during the year,', '')\n",
            "('if', 'Conceding the truth of the facts stated in the bill of exceptions, and we think it will not follow, that the possession of the claimants is a nullity, and that the case must be considered as', '')\n",
            "('if', 'The contract contains an express undertaking to give up the crop at any time the claimants might require it for their indemnity, and', '')\n",
            "('if', 'they took possession of it in the absence of the grantor, (though without his consent,)', '')\n",
            "('if', 'he subsequently acquiesced in it, the inference would be,', '')\n",
            "('subject to', 'Mr. Dane, in remarking upon this point, says, “The American editor of Bacon’s Abridgment, says, ‘Wheat growing in the ground is a chattel, and', '')\n",
            "('until', 'The first section of the act of 1821, “To prevent sheriffs and other officers from levying executions in certain cases, enacts, that “It shall not be lawful for any sheriff or other officer, to levy a writ of fieri facias or other execution on the planted crop of a debtor, or person against whom an execution may issue,', '')\n",
            "('until', 'Now here is an express inhibition to levy an execution on a crop while it remains on, or in the ground, and', '')\n",
            "('until', 'If so, the act cited, will only have the effect of keeping the right to levy it in abeyance', '')\n",
            "('if', 'The lien and the right to levy are intimately connected, and', '')\n",
            "('until', 'That it was competent for the legislature to have made it unlawful to levy an execution on particular property,', '')\n",
            "('until', 'If the object was merely to suspend the sale,', '')\n",
            "('as soon as', 'The idea that the lien attached upon the planted crop', '')\n",
            "('until', 'the execution was delivered to the sheriff, though the right to levy it was postponed', '')\n",
            "('if', 'They do not refer to the lien,', '')\n",
            "('until', 'they did they would postpone it', '')\n",
            "('until', 'the crop was gathered; but it is the levy they relate to and postpone', '')\n",
            "('until', '**4 The right to levy an execution on a planted crop, then, being expressly taken away by the statute, the lien which is connected with and consequent upon that right, never attaches', '')\n",
            "('if', 'The circuit judge may have mistaken the law in supposing that the contract was a sale, but', '')\n",
            "('when', 'There is no assumption of any material fact in the charge; but the possession of the claimant, the time', '')\n",
            "('if', 'acquired, the gathering of the crop, &c., are all referred to the determination of the jury; who are instructed,', '')\n",
            "('until', '**4 The statute which presents the question before the court is, that “it shall not be lawful for any sheriff or other officer to levy a writ of fieei facias or other execution, on the planted crop of a debtor, or person against whom an execution may issue,', '')\n",
            "('subject to', 'The policy of the State, as indicated by these statutes, is undeniably that all the property of a debtor, real and personal, to which he has a legal title, shall be', '')\n",
            "('until', 'The mischief which the statute designed to remedy was, the sacrifice which would be necessarily made by the sale of an immature crop: the statute enables the debtor to retain it', '')\n",
            "('if', '**5', '')\n",
            "('until', 'The sheriff is forbidden to levy on a “planted crop”', '')\n",
            "('if', 'Now,', '')\n",
            "('until', 'This, I feel a thorough conviction, was not the intention of the legislature; but that it was to secure him from loss, by prohibiting a levy and sale of the crop,', '')\n",
            "('when', 'it was gathered,', '')\n",
            "('subject to', 'Growing crops as', '')\n",
            "('subject to', '464 Generally, at common law, growing crops raised by annual planting, while still attached to the soil, are regarded as personal chattels,', '')\n",
            "('where', 'And', '')\n"
          ],
          "name": "stdout"
        }
      ]
    },
    {
      "cell_type": "code",
      "metadata": {
        "colab": {
          "base_uri": "https://localhost:8080/"
        },
        "id": "zxpRSt838xmG",
        "outputId": "4e854999-419f-4b1b-bdc3-789b62045370"
      },
      "source": [
        "import lexnlp.extract.en.constraints\r\n",
        "_ = [print(constraint) for constraint in list(lexnlp.extract.en.constraints.get_constraints(text))]"
      ],
      "execution_count": 24,
      "outputs": [
        {
          "output_type": "stream",
          "text": [
            "('after', 'on a growing crop, nor does such lien attach until', '')\n",
            "('after', '', ' and that alias and pluries fieri facias’, issued regularly up to the time levy was made; that the cotton levied on was growed on the plantation of harrison, and cultivated by the hands in his service.')\n",
            "('first of', 'the claimants came from tennessee, (where they resided) about the', '')\n",
            "('first of', 'the court charged the jury, that the plaintiff had no lien by virtue of his judgment, and execution on the growing crop; that harrison had a right to convey it, without being in any manner restrained by them; that the writing adduced, was a sale of the crop, but if it was not, and the lien of the fieri facias would have attached upon it, when gathered, yet if the claimants obtained possession on the', '')\n",
            "('after', 'it merely inhibits the levy, but the lien attaches, and a levy and sale may be made', '')\n",
            "('more than', 'taking this to be clear *744 law, and it will be seen, that the defendant in execution at the time of the levy had nothing', '')\n",
            "('before', 'it has been frequently mooted whether, at common law, corn, &c.,', '')\n",
            "('before', '**4 the statute which presents the question', '')\n",
            "('after', 'now, if the view taken by the majority of the court, is correct, the right secured to the plaintiff in execution, of levying on the crop', '')\n",
            "('before', 'tried', '')\n",
            "('before', 'tried', '')\n",
            "('before', 'tried', '')\n",
            "('before', 'tried', '')\n",
            "('before', 'tried', '')\n",
            "('before', 'tried', '')\n"
          ],
          "name": "stdout"
        }
      ]
    },
    {
      "cell_type": "code",
      "metadata": {
        "colab": {
          "base_uri": "https://localhost:8080/"
        },
        "id": "j6j-9e938xdQ",
        "outputId": "2eff5022-8ec4-4c60-a23a-2ce964e2bae8"
      },
      "source": [
        "\r\n",
        "# copyrights\r\n",
        "import lexnlp.extract.en.copyright\r\n",
        "_ = [print(copyright) for copyright in list(lexnlp.extract.en.copyright.get_copyright(text))]"
      ],
      "execution_count": 25,
      "outputs": [
        {
          "output_type": "stream",
          "text": [
            "('©', '2019', 'Thomson Reuters. No')\n"
          ],
          "name": "stdout"
        }
      ]
    },
    {
      "cell_type": "code",
      "metadata": {
        "id": "Ikn1Z0JW83x6"
      },
      "source": [
        "from lexnlp.extract.en.dict_entities import entity_config\r\n"
      ],
      "execution_count": null,
      "outputs": []
    },
    {
      "cell_type": "code",
      "metadata": {
        "id": "W91G8Wlg87xW"
      },
      "source": [
        "import pandas\r\n",
        "import lexnlp.extract.en.dict_entities\r\n",
        "court_df = pandas.read_csv(\"https://raw.githubusercontent.com/LexPredict/lexpredict-legal-dictionary/1.0.5/en/legal/us_courts.csv\")\r\n",
        "# Create config objects\r\n",
        "court_config_data = []\r\n",
        "for _, row in court_df.iterrows():\r\n",
        "    c = (row[\"Court ID\"], row[\"Court Name\"], 0, row[\"Alias\"].split(\";\") if not pandas.isnull(row[\"Alias\"]) else [])\r\n",
        "    court_config_data.append(c)\r\n",
        "for entity, alias in lexnlp.extract.en.courts.get_courts(text, court_config_data):\r\n",
        "    print(\"entity=\", entity)\r\n",
        "    print(\"alias=\", alias)\r\n",
        "entity= (98, 'Eastern District of Virginia', 0, [('Eastern District of Virginia', None, False, None), ('E.D. Va.', None, False, None)])\r\n",
        "alias= ('E.D. Va.', None, False, None)\r\n",
        "entity= (70, 'Southern District of New York', 0, [('Southern District of New York', None, False, None), ('S.D.N.Y.', None, False, None)])\r\n",
        "alias= ('S.D.N.Y.', None, False, None)"
      ],
      "execution_count": null,
      "outputs": []
    },
    {
      "cell_type": "code",
      "metadata": {
        "colab": {
          "base_uri": "https://localhost:8080/"
        },
        "id": "_AWjbJzy88tL",
        "outputId": "3e41b862-f991-4a19-f7dd-e6e787e0839a"
      },
      "source": [
        "import lexnlp.extract.en.cusip\r\n",
        "list(lexnlp.extract.en.cusip.get_cusip(text))"
      ],
      "execution_count": 36,
      "outputs": [
        {
          "output_type": "execute_result",
          "data": {
            "text/plain": [
              "[]"
            ]
          },
          "metadata": {
            "tags": []
          },
          "execution_count": 36
        }
      ]
    },
    {
      "cell_type": "code",
      "metadata": {
        "colab": {
          "base_uri": "https://localhost:8080/"
        },
        "id": "ySLgX2pt8-yf",
        "outputId": "65a0d145-f14d-476b-ba03-d0a0e9332b83"
      },
      "source": [
        "import lexnlp.extract.en.dates\r\n",
        "_ = [print(date) for date in list(lexnlp.extract.en.dates.get_dates(text))]"
      ],
      "execution_count": 37,
      "outputs": [
        {
          "output_type": "stream",
          "text": [
            "2021-06-01\n",
            "1840-11-01\n",
            "1839-10-01\n",
            "1840-09-01\n",
            "1840-05-01\n",
            "1840-05-01\n",
            "2021-12-01\n",
            "2021-12-01\n",
            "2021-01-01\n",
            "2021-01-01\n",
            "2021-01-01\n",
            "2021-03-21\n",
            "2021-06-01\n",
            "2021-07-01\n",
            "2021-11-01\n"
          ],
          "name": "stdout"
        }
      ]
    },
    {
      "cell_type": "code",
      "metadata": {
        "colab": {
          "base_uri": "https://localhost:8080/"
        },
        "id": "i8HPcufV9BJM",
        "outputId": "11dd1ffc-b8fa-45f7-f5e2-a32d35a3ed2e"
      },
      "source": [
        "import lexnlp.extract.en.definitions\r\n",
        "list(lexnlp.extract.en.definitions.get_definitions(text))"
      ],
      "execution_count": 38,
      "outputs": [
        {
          "output_type": "execute_result",
          "data": {
            "text/plain": [
              "[]"
            ]
          },
          "metadata": {
            "tags": []
          },
          "execution_count": 38
        }
      ]
    },
    {
      "cell_type": "code",
      "metadata": {
        "colab": {
          "base_uri": "https://localhost:8080/"
        },
        "id": "qf4949ZU9DTC",
        "outputId": "0ef47ab6-6e3f-45e5-eaa7-50a17af1d55a"
      },
      "source": [
        "import lexnlp.extract.en.distances\r\n",
        "list(lexnlp.extract.en.distances.get_distances(text))"
      ],
      "execution_count": 39,
      "outputs": [
        {
          "output_type": "execute_result",
          "data": {
            "text/plain": [
              "[]"
            ]
          },
          "metadata": {
            "tags": []
          },
          "execution_count": 39
        }
      ]
    },
    {
      "cell_type": "code",
      "metadata": {
        "colab": {
          "base_uri": "https://localhost:8080/"
        },
        "id": "xxhoS5qj9Fc8",
        "outputId": "5fb2dedc-9fee-4ae5-880c-a495ec061ca0"
      },
      "source": [
        "\r\n",
        "#durations\r\n",
        "import lexnlp.extract.en.durations\r\n",
        "list(lexnlp.extract.en.durations.get_durations(text))"
      ],
      "execution_count": 41,
      "outputs": [
        {
          "output_type": "execute_result",
          "data": {
            "text/plain": [
              "[('second', Decimal('20.0'), Decimal('0.0002')),\n",
              " ('year', Decimal('6.0'), Decimal('2190.0'))]"
            ]
          },
          "metadata": {
            "tags": []
          },
          "execution_count": 41
        }
      ]
    },
    {
      "cell_type": "code",
      "metadata": {
        "id": "Hy74sGQw9Hdi"
      },
      "source": [
        "import lexnlp.extract.en.geoentities\r\n",
        "lexnlp.extract.en.geoentities.get_geoentities(text)"
      ],
      "execution_count": null,
      "outputs": []
    },
    {
      "cell_type": "code",
      "metadata": {
        "colab": {
          "base_uri": "https://localhost:8080/"
        },
        "id": "LUNWVWtn9KCD",
        "outputId": "b85925a9-3724-414a-94ea-6ef85d1e4323"
      },
      "source": [
        "import lexnlp.extract.en.money\r\n",
        "list(lexnlp.extract.en.money.get_money(text))"
      ],
      "execution_count": 43,
      "outputs": [
        {
          "output_type": "execute_result",
          "data": {
            "text/plain": [
              "[(Decimal('100.0'), 'USD'),\n",
              " (Decimal('14000.0'), 'USD'),\n",
              " (Decimal('14000.0'), 'USD')]"
            ]
          },
          "metadata": {
            "tags": []
          },
          "execution_count": 43
        }
      ]
    },
    {
      "cell_type": "code",
      "metadata": {
        "colab": {
          "base_uri": "https://localhost:8080/"
        },
        "id": "wzuoFyMH9RY_",
        "outputId": "53f9bd63-a095-401e-ee1a-b3db2d74f0d9"
      },
      "source": [
        "import lexnlp.extract.en.percents\r\n",
        "list(lexnlp.extract.en.percents.get_percents(text))"
      ],
      "execution_count": 44,
      "outputs": [
        {
          "output_type": "execute_result",
          "data": {
            "text/plain": [
              "[]"
            ]
          },
          "metadata": {
            "tags": []
          },
          "execution_count": 44
        }
      ]
    },
    {
      "cell_type": "code",
      "metadata": {
        "colab": {
          "base_uri": "https://localhost:8080/"
        },
        "id": "BeLk-CeA9RVr",
        "outputId": "1b243b5b-49ae-4616-edd9-94da01406b6b"
      },
      "source": [
        "import lexnlp.extract.en.pii\r\n",
        "list(lexnlp.extract.en.pii.get_pii(text))"
      ],
      "execution_count": 45,
      "outputs": [
        {
          "output_type": "execute_result",
          "data": {
            "text/plain": [
              "[]"
            ]
          },
          "metadata": {
            "tags": []
          },
          "execution_count": 45
        }
      ]
    },
    {
      "cell_type": "code",
      "metadata": {
        "colab": {
          "base_uri": "https://localhost:8080/"
        },
        "id": "wwBFmIN69RTj",
        "outputId": "2240b8aa-9986-4a1b-b5a8-4e4b2b930e97"
      },
      "source": [
        "import lexnlp.extract.en.ratios\r\n",
        "list(lexnlp.extract.en.ratios.get_ratios(text))"
      ],
      "execution_count": 46,
      "outputs": [
        {
          "output_type": "execute_result",
          "data": {
            "text/plain": [
              "[]"
            ]
          },
          "metadata": {
            "tags": []
          },
          "execution_count": 46
        }
      ]
    },
    {
      "cell_type": "code",
      "metadata": {
        "colab": {
          "base_uri": "https://localhost:8080/"
        },
        "id": "KVNqVobP9RRk",
        "outputId": "a632e090-0c93-415f-a3c2-792f8aa7b5e2"
      },
      "source": [
        "import lexnlp.extract.en.regulations\r\n",
        "list(lexnlp.extract.en.regulations.get_regulations(text))"
      ],
      "execution_count": 47,
      "outputs": [
        {
          "output_type": "execute_result",
          "data": {
            "text/plain": [
              "[]"
            ]
          },
          "metadata": {
            "tags": []
          },
          "execution_count": 47
        }
      ]
    },
    {
      "cell_type": "code",
      "metadata": {
        "colab": {
          "base_uri": "https://localhost:8080/"
        },
        "id": "YYO2cNXg9Wid",
        "outputId": "9b96fad6-8034-4ce7-ec24-5f0dc7af2c42"
      },
      "source": [
        "import lexnlp.extract.en.trademarks\r\n",
        "list(lexnlp.extract.en.trademarks.get_trademarks(text))"
      ],
      "execution_count": 48,
      "outputs": [
        {
          "output_type": "execute_result",
          "data": {
            "text/plain": [
              "[]"
            ]
          },
          "metadata": {
            "tags": []
          },
          "execution_count": 48
        }
      ]
    },
    {
      "cell_type": "code",
      "metadata": {
        "colab": {
          "base_uri": "https://localhost:8080/"
        },
        "id": "G8pj41eI9WfI",
        "outputId": "a8da9efd-0322-4e75-b0d7-31d7bffd9111"
      },
      "source": [
        "import lexnlp.extract.en.urls\r\n",
        "list(lexnlp.extract.en.urls.get_urls(text))"
      ],
      "execution_count": 49,
      "outputs": [
        {
          "output_type": "execute_result",
          "data": {
            "text/plain": [
              "[]"
            ]
          },
          "metadata": {
            "tags": []
          },
          "execution_count": 49
        }
      ]
    }
  ]
}