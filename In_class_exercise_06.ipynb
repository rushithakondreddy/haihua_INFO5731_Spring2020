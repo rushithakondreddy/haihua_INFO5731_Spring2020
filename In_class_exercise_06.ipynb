{
  "nbformat": 4,
  "nbformat_minor": 0,
  "metadata": {
    "colab": {
      "name": "In_class_exercise_06.ipynb",
      "provenance": [],
      "collapsed_sections": [],
      "include_colab_link": true
    },
    "kernelspec": {
      "display_name": "Python 3",
      "language": "python",
      "name": "python3"
    },
    "language_info": {
      "codemirror_mode": {
        "name": "ipython",
        "version": 3
      },
      "file_extension": ".py",
      "mimetype": "text/x-python",
      "name": "python",
      "nbconvert_exporter": "python",
      "pygments_lexer": "ipython3",
      "version": "3.8.5"
    }
  },
  "cells": [
    {
      "cell_type": "markdown",
      "metadata": {
        "id": "view-in-github",
        "colab_type": "text"
      },
      "source": [
        "<a href=\"https://colab.research.google.com/github/rushithakondreddy/haihua_INFO5731_Spring2020/blob/main/In_class_exercise_06.ipynb\" target=\"_parent\"><img src=\"https://colab.research.google.com/assets/colab-badge.svg\" alt=\"Open In Colab\"/></a>"
      ]
    },
    {
      "cell_type": "markdown",
      "metadata": {
        "id": "z7TahL04sVvR"
      },
      "source": [
        "# **The sixth in-class-exercise (20 points in total, 3/2/2021)**"
      ]
    },
    {
      "cell_type": "markdown",
      "metadata": {
        "id": "ejyZITr8sjnh"
      },
      "source": [
        "## **1. Rule-based information extraction (10 points)**\n",
        "\n",
        "Use any keywords related to data science, natural language processing, machine learning to search from google scholar, get the **titles** of 100 articles (either by web scraping or manually) about this topic, define a set of patterns to extract the research questions/problems, methods/algorithms/models, datasets, applications, or any other important information about this topic. "
      ]
    },
    {
      "cell_type": "code",
      "metadata": {
        "colab": {
          "base_uri": "https://localhost:8080/",
          "height": 17
        },
        "id": "XvR_O9D8sOUY",
        "outputId": "4524eb9d-9dd0-4a4e-e63b-22e5e3257d45"
      },
      "source": [
        "# Write your code here\r\n",
        "\r\n",
        "from IPython.core.display import display, HTML\r\n",
        "display(HTML('<style>.container { width:80% !important; }</style>'))"
      ],
      "execution_count": 50,
      "outputs": [
        {
          "output_type": "display_data",
          "data": {
            "text/html": [
              "<style>.container { width:80% !important; }</style>"
            ],
            "text/plain": [
              "<IPython.core.display.HTML object>"
            ]
          },
          "metadata": {
            "tags": []
          }
        }
      ]
    },
    {
      "cell_type": "code",
      "metadata": {
        "id": "gICiNQC26eII"
      },
      "source": [
        "from bs4 import BeautifulSoup\r\n",
        "import requests\r\n",
        "import pandas as pd\r\n",
        "import numpy as np"
      ],
      "execution_count": 51,
      "outputs": []
    },
    {
      "cell_type": "code",
      "metadata": {
        "id": "5elLn1A3_jNq"
      },
      "source": [
        "headers = [{'User-Agent' : 'Mozilla/5.0 (Windows NT 10.0; Win64; x64; rv:81.0) Gecko/20100101 Firefox/81.0'},\r\n",
        "           {'User-Agent' : 'Mozilla/5.0 (Windows NT 10.0; Win64; x64) AppleWebKit/537.36 (KHTML, like Gecko) Chrome/86.0.4240.75 Safari/537.36 Vivaldi/3.3'},\r\n",
        "           {'User-Agent' : 'Mozilla/5.0 (Windows NT 10.0) AppleWebKit/537.36 (KHTML, like Gecko) Chrome/86.0.4240.75 Safari/537.36'},\r\n",
        "           {'User-Agent' : 'Mozilla/5.0 (Windows NT 10.0; Win64; x64) AppleWebKit/537.36 (KHTML, like Gecko) Chrome/86.0.4240.75 Safari/537.36 Edg/86.0.622.38'}]\r\n",
        "\r\n",
        "pages = np.arange(1, 11) * 10 \r\n",
        "\r\n",
        "responses = []\r\n",
        "for page in pages:\r\n",
        "    url = 'https://scholar.google.com/scholar?start=' + str(page) + '&q=natural+language+processing&hl=en&as_sdt=0,44'\r\n",
        "    print(f'{page} titles being extracted')\r\n",
        "    random_index = np.random.randint(0, 4)\r\n",
        "    header = headers[random_index]\r\n",
        "    response = requests.get(url, headers=header)\r\n",
        "    if response.status_code == 200:\r\n",
        "        print('Everything is fine. Continue to scrap ...')\r\n",
        "    else:\r\n",
        "        print('Something went wrong!')\r\n",
        "    soup=BeautifulSoup(response.content,'lxml')\r\n",
        "    responses.append(soup)"
      ],
      "execution_count": null,
      "outputs": []
    },
    {
      "cell_type": "markdown",
      "metadata": {
        "id": "95CKqAuX_ljg"
      },
      "source": [
        "\r\n",
        "\r\n",
        "```\r\n",
        "\r\n",
        "10 titles being extracted\r\n",
        "Everything is fine. Continue to scrap ...\r\n",
        "20 titles being extracted\r\n",
        "Everything is fine. Continue to scrap ...\r\n",
        "30 titles being extracted\r\n",
        "Everything is fine. Continue to scrap ...\r\n",
        "40 titles being extracted\r\n",
        "Everything is fine. Continue to scrap ...\r\n",
        "50 titles being extracted\r\n",
        "Everything is fine. Continue to scrap ...\r\n",
        "60 titles being extracted\r\n",
        "Everything is fine. Continue to scrap ...\r\n",
        "70 titles being extracted\r\n",
        "Everything is fine. Continue to scrap ...\r\n",
        "80 titles being extracted\r\n",
        "Everything is fine. Continue to scrap ...\r\n",
        "90 titles being extracted\r\n",
        "Everything is fine. Continue to scrap ...\r\n",
        "100 titles being extracted\r\n",
        "Everything is fine. Continue to scrap ...\r\n",
        "```\r\n",
        "\r\n"
      ]
    },
    {
      "cell_type": "code",
      "metadata": {
        "id": "6wn3TXdM6ddb"
      },
      "source": [
        "titles = []\r\n",
        "count = 1\r\n",
        "for response in responses:\r\n",
        "    for item in response.select('[data-lid]'):\r\n",
        "        try:\r\n",
        "            print('-----------' + str(count) + '-----------------------------')\r\n",
        "            titles.append(item.select('h3')[0].get_text())\r\n",
        "        except Exception as error:\r\n",
        "            print('Something went wrong!')\r\n",
        "        count += 1"
      ],
      "execution_count": 55,
      "outputs": []
    },
    {
      "cell_type": "markdown",
      "metadata": {
        "id": "Zav_oRLp_zti"
      },
      "source": [
        "\r\n",
        "\r\n",
        "```\r\n",
        "-----------1-----------------------------\r\n",
        "-----------2-----------------------------\r\n",
        "-----------3-----------------------------\r\n",
        "-----------4-----------------------------\r\n",
        "-----------5-----------------------------\r\n",
        "-----------6-----------------------------\r\n",
        "-----------7-----------------------------\r\n",
        "-----------8-----------------------------\r\n",
        "-----------9-----------------------------\r\n",
        "-----------10-----------------------------\r\n",
        "-----------11-----------------------------\r\n",
        "-----------12-----------------------------\r\n",
        "-----------13-----------------------------\r\n",
        "-----------14-----------------------------\r\n",
        "-----------15-----------------------------\r\n",
        "-----------16-----------------------------\r\n",
        "-----------17-----------------------------\r\n",
        "-----------18-----------------------------\r\n",
        "-----------19-----------------------------\r\n",
        "-----------20-----------------------------\r\n",
        "-----------21-----------------------------\r\n",
        "-----------22-----------------------------\r\n",
        "-----------23-----------------------------\r\n",
        "-----------24-----------------------------\r\n",
        "-----------25-----------------------------\r\n",
        "-----------26-----------------------------\r\n",
        "-----------27-----------------------------\r\n",
        "-----------28-----------------------------\r\n",
        "-----------29-----------------------------\r\n",
        "-----------30-----------------------------\r\n",
        "-----------31-----------------------------\r\n",
        "-----------32-----------------------------\r\n",
        "-----------33-----------------------------\r\n",
        "-----------34-----------------------------\r\n",
        "-----------35-----------------------------\r\n",
        "-----------36-----------------------------\r\n",
        "-----------37-----------------------------\r\n",
        "-----------38-----------------------------\r\n",
        "-----------39-----------------------------\r\n",
        "-----------40-----------------------------\r\n",
        "-----------41-----------------------------\r\n",
        "-----------42-----------------------------\r\n",
        "-----------43-----------------------------\r\n",
        "-----------44-----------------------------\r\n",
        "-----------45-----------------------------\r\n",
        "-----------46-----------------------------\r\n",
        "-----------47-----------------------------\r\n",
        "-----------48-----------------------------\r\n",
        "-----------49-----------------------------\r\n",
        "-----------50-----------------------------\r\n",
        "-----------51-----------------------------\r\n",
        "-----------52-----------------------------\r\n",
        "-----------53-----------------------------\r\n",
        "-----------54-----------------------------\r\n",
        "-----------55-----------------------------\r\n",
        "-----------56-----------------------------\r\n",
        "-----------57-----------------------------\r\n",
        "-----------58-----------------------------\r\n",
        "-----------59-----------------------------\r\n",
        "-----------60-----------------------------\r\n",
        "-----------61-----------------------------\r\n",
        "-----------62-----------------------------\r\n",
        "-----------63-----------------------------\r\n",
        "-----------64-----------------------------\r\n",
        "-----------65-----------------------------\r\n",
        "-----------66-----------------------------\r\n",
        "-----------67-----------------------------\r\n",
        "-----------68-----------------------------\r\n",
        "-----------69-----------------------------\r\n",
        "-----------70-----------------------------\r\n",
        "-----------71-----------------------------\r\n",
        "-----------72-----------------------------\r\n",
        "-----------73-----------------------------\r\n",
        "-----------74-----------------------------\r\n",
        "-----------75-----------------------------\r\n",
        "-----------76-----------------------------\r\n",
        "-----------77-----------------------------\r\n",
        "-----------78-----------------------------\r\n",
        "-----------79-----------------------------\r\n",
        "-----------80-----------------------------\r\n",
        "-----------81-----------------------------\r\n",
        "-----------82-----------------------------\r\n",
        "-----------83-----------------------------\r\n",
        "-----------84-----------------------------\r\n",
        "-----------85-----------------------------\r\n",
        "-----------86-----------------------------\r\n",
        "-----------87-----------------------------\r\n",
        "-----------88-----------------------------\r\n",
        "-----------89-----------------------------\r\n",
        "-----------90-----------------------------\r\n",
        "-----------91-----------------------------\r\n",
        "-----------92-----------------------------\r\n",
        "-----------93-----------------------------\r\n",
        "-----------94-----------------------------\r\n",
        "-----------95-----------------------------\r\n",
        "-----------96-----------------------------\r\n",
        "-----------97-----------------------------\r\n",
        "-----------98-----------------------------\r\n",
        "-----------99-----------------------------\r\n",
        "-----------100-----------------------------\r\n",
        "```\r\n",
        "\r\n"
      ]
    },
    {
      "cell_type": "code",
      "metadata": {
        "id": "rATFQHVH6_c1"
      },
      "source": [
        "df = pd.DataFrame({'titles' : titles})"
      ],
      "execution_count": null,
      "outputs": []
    },
    {
      "cell_type": "code",
      "metadata": {
        "id": "aKaONaU4BLCx"
      },
      "source": [
        "df.to_csv('titles.csv')"
      ],
      "execution_count": null,
      "outputs": []
    },
    {
      "cell_type": "code",
      "metadata": {
        "id": "BwcI0qC1BHWY"
      },
      "source": [
        "import pandas as pd\r\n",
        "import numpy as np\r\n",
        "import spacy\r\n",
        "nlp = spacy.load('en_core_web_sm')\r\n",
        "pd.set_option('display.max_colwidth', 200)"
      ],
      "execution_count": null,
      "outputs": []
    },
    {
      "cell_type": "code",
      "metadata": {
        "id": "J2CsvJ3fBHTv"
      },
      "source": [
        "df = pd.read_csv('titles.csv')"
      ],
      "execution_count": null,
      "outputs": []
    },
    {
      "cell_type": "code",
      "metadata": {
        "id": "JmgRVliDBHRB"
      },
      "source": [
        "df.titles.values"
      ],
      "execution_count": null,
      "outputs": []
    },
    {
      "cell_type": "markdown",
      "metadata": {
        "id": "An0EuC7RBUlu"
      },
      "source": [
        "\r\n",
        "\r\n",
        "```\r\n",
        "array(['[PDF][PDF] Natural language processing',\r\n",
        "       'Allennlp: A deep semantic natural language processing platform',\r\n",
        "       'Sentiment analysis: Capturing favorability using natural language processing',\r\n",
        "       'Natural language processing: an introduction',\r\n",
        "       'Introduction to Arabic natural language processing',\r\n",
        "       'Advances in natural language processing',\r\n",
        "       '[PDF][PDF] Ask me anything: Dynamic memory networks for natural language processing',\r\n",
        "       'Transformation-based error-driven learning and natural language processing: A case study in part-of-speech tagging',\r\n",
        "       'A primer on neural network models for natural language processing',\r\n",
        "       '[BOOK][B] Handbook of natural language processing',\r\n",
        "       'Jumping NLP curves: A review of natural language processing research',\r\n",
        "       'Detection of duplicate defect reports using natural language processing',\r\n",
        "       'Sentiment analyzer: Extracting sentiments about a given topic using natural language processing techniques',\r\n",
        "       'Neural network methods for natural language processing',\r\n",
        "       '[BOOK][B] Natural language processing for Prolog programmers',\r\n",
        "       '[BOOK][B] Natural language processing and text mining',\r\n",
        "       '[PDF][PDF] A survey on hate speech detection using natural language processing',\r\n",
        "       'Arabic natural language processing: Challenges and solutions',\r\n",
        "       '[PDF][PDF] Natural language processing for information retrieval',\r\n",
        "       'Ontology-based parser for natural language processing',\r\n",
        "       'Natural-language processing system',\r\n",
        "       '[PDF][PDF] Human engineering fcr applied natural language processing',\r\n",
        "       'Comparative study of cnn and rnn for natural language processing',\r\n",
        "       'Automated encoding of clinical documents based on natural language processing',\r\n",
        "       'Object interactive user interface using speech recognition and natural language processing',\r\n",
        "       'Wikipedia-based semantic interpretation for natural language processing',\r\n",
        "       '[BOOK][B] Spotting and discovering terms through natural language processing',\r\n",
        "       'Using natural-language processing to produce weather forecasts',\r\n",
        "       '[HTML][HTML] What can natural language processing do for clinical decision support?',\r\n",
        "       '[BOOK][B] Strategies for natural language processing',\r\n",
        "       'Unlocking clinical data from narrative reports: a study of natural language processing',\r\n",
        "       '[BOOK][B] Natural language processing: a Paninian perspective',\r\n",
        "       'System for processing textual inputs using natural language processing techniques',\r\n",
        "       '[PDF][PDF] GENIES: a natural-language processing system for the extraction of molecular pathways from journal articles',\r\n",
        "       'Interactive user interface using speech recognition and natural language processing',\r\n",
        "       'Network interactive user interface using speech recognition and natural language processing',\r\n",
        "       'Natural language processing interface',\r\n",
        "       'Automatically assigning medical codes using natural language processing',\r\n",
        "       '[BOOK][B] Evaluating natural language processing systems: An analysis and review',\r\n",
        "       '[BOOK][B] Graph-based natural language processing and information retrieval',\r\n",
        "       '[BOOK][B] Natural language processing for online applications: Text retrieval, extraction and categorization',\r\n",
        "       'A broad-coverage natural language processing system.',\r\n",
        "       '[PDF][PDF] A simple introduction to maximum entropy models for natural language processing',\r\n",
        "       '[CITATION][C] Practical Natural-Language Processing by Computer',\r\n",
        "       '[BOOK][B] Subsymbolic natural language processing: An integrated model of scripts, lexicon, and memory',\r\n",
        "       'Natural language processing system for semantic vector representation which accounts for lexical ambiguity',\r\n",
        "       'Apparatus and methods for an information retrieval system that employs natural language processing of search results to improve overall precision',\r\n",
        "       'Natural language processing and information retrieval',\r\n",
        "       'Natural language processing of disfluent sentences',\r\n",
        "       'Natural language processing system and method for processing input information by predicting kind thereof',\r\n",
        "       '[BOOK][B] The handbook of computational linguistics and natural language processing',\r\n",
        "       '[PDF][PDF] Natural language processing and its future in medicine',\r\n",
        "       'Lexical semantic relatedness and its application in natural language processing',\r\n",
        "       'Natural language processing with modular PDP networks and distributed lexicon',\r\n",
        "       'Lexical knowledge representation and natural language processing',\r\n",
        "       'Automated identification of postoperative complications within an electronic medical record using natural language processing',\r\n",
        "       '[PDF][PDF] Chinese whispers-an efficient graph clustering algorithm and its application to natural language processing problems',\r\n",
        "       'System and method for natural language processing of query answers',\r\n",
        "       'NL-OOPS: from natural language to object oriented requirements using the natural language processing system LOLITA',\r\n",
        "       '[PDF][PDF] Natural language processing in medicine: an overview',\r\n",
        "       '[HTML][HTML] The interaction of domain knowledge and linguistic structure in natural language processing: interpreting hypernymic propositions in biomedical text',\r\n",
        "       '[HTML][HTML] A linguistic ontology of space for natural language processing',\r\n",
        "       'Web-based models for natural language processing',\r\n",
        "       'Natural language processing and semantical representation of medical texts',\r\n",
        "       'Genomics and natural language processing',\r\n",
        "       'A review of natural language processing techniques for opinion mining systems',\r\n",
        "       'Natural language processing and the representation of clinical data',\r\n",
        "       '[PDF][PDF] Very deep convolutional networks for natural language processing',\r\n",
        "       'MedScan, a natural language processing engine for MEDLINE abstracts',\r\n",
        "       '[BOOK][B] Deep learning in natural language processing',\r\n",
        "       'Systems for natural language processing of sentence based queries',\r\n",
        "       'Natural language processing for a location-based services system',\r\n",
        "       '[PDF][PDF] Self-organizing maps in natural language processing',\r\n",
        "       'System and method for selecting and presenting advertisements based on natural language processing of voice-based input',\r\n",
        "       '[BOOK][B] Natural language processing: the PLNLP approach',\r\n",
        "       'Natural language processing',\r\n",
        "       '[PDF][PDF] Neural transfer learning for natural language processing',\r\n",
        "       'Parsing method and system for natural language processing',\r\n",
        "       '[PDF][PDF] Natural Language Processing to the Rescue? Extracting\" Situational Awareness\" Tweets During Mass Emergency.',\r\n",
        "       'Natural language processing in radiology: a systematic review',\r\n",
        "       'Syntactic n-grams as machine learning features for natural language processing',\r\n",
        "       'Automated detection of adverse events using natural language processing of discharge summaries',\r\n",
        "       'System and method for natural language processing of sentence based queries',\r\n",
        "       '[BOOK][B] The semantics of prepositions: From mental processing to natural language processing',\r\n",
        "       'Inheritance in natural language processing',\r\n",
        "       'Learning to rank for information retrieval and natural language processing',\r\n",
        "       '[PDF][PDF] Integrating plot, character and natural language processing in the interactive drama Façade',\r\n",
        "       '[PDF][PDF] On some applications of finite-state automata theory to natural language processing',\r\n",
        "       '[HTML][HTML] A comparison of word embeddings for the biomedical natural language processing',\r\n",
        "       'An overview of empirical natural language processing',\r\n",
        "       'Natural language processing',\r\n",
        "       'CLAMP–a toolkit for efficiently building customized clinical natural language processing pipelines',\r\n",
        "       '[BOOK][B] Connectionist approaches to natural language processing',\r\n",
        "       '[HTML][HTML] Natural language processing systems for capturing and standardizing unstructured clinical information: a systematic review',\r\n",
        "       'System and method for selecting and presenting advertisements based on natural language processing of voice-based input',\r\n",
        "       'Prediction and substantiation: A new approach to natural language processing',\r\n",
        "       '[BOOK][B] Lexical functions in lexicography and natural language processing',\r\n",
        "       'Suicide note classification using natural language processing: A content analysis',\r\n",
        "       '[HTML][HTML] A pattern dictionary for natural language processing',\r\n",
        "       'Natural language processing method by analyzing primitive sentences, logical clauses, clause types and verbal blocks'],\r\n",
        "      dtype=object)\r\n",
        "```\r\n",
        "\r\n"
      ]
    },
    {
      "cell_type": "code",
      "metadata": {
        "id": "qsQijnJSBT3n"
      },
      "source": [
        "def clean_title(s):\r\n",
        "    discards = ['[PDF][PDF] ', '[BOOK][B] ', '[HTML][HTML] ', '[CITATION][C] ']\r\n",
        "    for discard in discards:\r\n",
        "        if discard in s:\r\n",
        "            s = s.replace(discard, '')\r\n",
        "    return s"
      ],
      "execution_count": null,
      "outputs": []
    },
    {
      "cell_type": "code",
      "metadata": {
        "id": "C9mnx8FTBgPb"
      },
      "source": [
        "df.titles = df.titles.apply(clean_title)"
      ],
      "execution_count": null,
      "outputs": []
    },
    {
      "cell_type": "code",
      "metadata": {
        "id": "dsGiOBCgBgHs"
      },
      "source": [
        "def clean_text(text):\r\n",
        "    import re\r\n",
        "    # removing apostrophes\r\n",
        "    text = re.sub(\"'s\",'',str(text))\r\n",
        "    # removing hyphens\r\n",
        "    text = re.sub(\"-\",' ',str(text))\r\n",
        "    text = re.sub(\"— \",'',str(text))\r\n",
        "    # removing quotation marks\r\n",
        "    text = re.sub('\\\"','',str(text))\r\n",
        "    # removing any reference to outside text\r\n",
        "    text = re.sub('[^\\w\\s]','', str(text))\r\n",
        "    return text"
      ],
      "execution_count": null,
      "outputs": []
    },
    {
      "cell_type": "code",
      "metadata": {
        "id": "Xg6M4pOeBmkk"
      },
      "source": [
        "df.titles = df.titles.apply(clean_text)"
      ],
      "execution_count": null,
      "outputs": []
    },
    {
      "cell_type": "code",
      "metadata": {
        "id": "X4NobBLdBo6q"
      },
      "source": [
        "def words(text):\r\n",
        "    from spacy.matcher import Matcher\r\n",
        "    word_ = []\r\n",
        "    doc = nlp(text)\r\n",
        "    patterns = [[{'LOWER':'new'},\r\n",
        "                 {'POS':'NOUN'}],\r\n",
        "              [{'LOWER':'lexical'},\r\n",
        "              {'POS':'NOUN'}],\r\n",
        "              [{'LOWER':'pattern'},\r\n",
        "              {'POS':'NOUN'}],\r\n",
        "              [{'LOWER':'system'},\r\n",
        "              {'POS':'NOUN'}],\r\n",
        "              [{'LOWER':'using'},\r\n",
        "              {'POS':'NOUN'}]]\r\n",
        "    matcher = Matcher(nlp.vocab)\r\n",
        "    for pattern in patterns:\r\n",
        "        matcher.add(\"matching\", None, pattern)\r\n",
        "        matches = matcher(doc)\r\n",
        "        for i in range(0,len(matches)):\r\n",
        "            token = doc[matches[i][1]:matches[i][2]]\r\n",
        "            word_.append(str(token))\r\n",
        "        for word in word_:\r\n",
        "            print(word)\r\n",
        "    return word_"
      ],
      "execution_count": null,
      "outputs": []
    },
    {
      "cell_type": "code",
      "metadata": {
        "id": "RMyL5UyFByg1"
      },
      "source": [
        "df.titles.apply(words).values"
      ],
      "execution_count": null,
      "outputs": []
    },
    {
      "cell_type": "markdown",
      "metadata": {
        "id": "teikmo1tB2Qt"
      },
      "source": [
        "\r\n",
        "\r\n",
        "```\r\n",
        "using speech\r\n",
        "using speech\r\n",
        "using speech\r\n",
        "lexical ambiguity\r\n",
        "lexical ambiguity\r\n",
        "lexical ambiguity\r\n",
        "lexical ambiguity\r\n",
        "lexical ambiguity\r\n",
        "lexical ambiguity\r\n",
        "lexical ambiguity\r\n",
        "lexical ambiguity\r\n",
        "lexical ambiguity\r\n",
        "lexical ambiguity\r\n",
        "Lexical knowledge\r\n",
        "Lexical knowledge\r\n",
        "Lexical knowledge\r\n",
        "Lexical knowledge\r\n",
        "Lexical knowledge\r\n",
        "Lexical knowledge\r\n",
        "Lexical knowledge\r\n",
        "Lexical knowledge\r\n",
        "Lexical knowledge\r\n",
        "Lexical knowledge\r\n",
        "new approach\r\n",
        "new approach\r\n",
        "new approach\r\n",
        "new approach\r\n",
        "new approach\r\n",
        "new approach\r\n",
        "new approach\r\n",
        "new approach\r\n",
        "new approach\r\n",
        "new approach\r\n",
        "new approach\r\n",
        "new approach\r\n",
        "new approach\r\n",
        "new approach\r\n",
        "new approach\r\n",
        "Lexical functions\r\n",
        "Lexical functions\r\n",
        "Lexical functions\r\n",
        "Lexical functions\r\n",
        "Lexical functions\r\n",
        "Lexical functions\r\n",
        "Lexical functions\r\n",
        "Lexical functions\r\n",
        "Lexical functions\r\n",
        "Lexical functions\r\n",
        "Out[17]:\r\n",
        "array([list([]), list([]), list([]), list([]), list([]), list([]),\r\n",
        "       list([]), list([]), list([]), list([]), list([]), list([]),\r\n",
        "       list([]), list([]), list([]), list([]), list([]), list([]),\r\n",
        "       list([]), list([]), list([]), list([]), list([]), list([]),\r\n",
        "       list(['using speech']), list([]), list([]), list([]), list([]),\r\n",
        "       list([]), list([]), list([]), list([]), list([]),\r\n",
        "       list(['using speech']), list(['using speech']), list([]), list([]),\r\n",
        "       list([]), list([]), list([]), list([]), list([]), list([]),\r\n",
        "       list([]),\r\n",
        "       list(['lexical ambiguity', 'lexical ambiguity', 'lexical ambiguity', 'lexical ambiguity']),\r\n",
        "       list([]), list([]), list([]), list([]), list([]), list([]),\r\n",
        "       list([]), list([]),\r\n",
        "       list(['Lexical knowledge', 'Lexical knowledge', 'Lexical knowledge', 'Lexical knowledge']),\r\n",
        "       list([]), list([]), list([]), list([]), list([]), list([]),\r\n",
        "       list([]), list([]), list([]), list([]), list([]), list([]),\r\n",
        "       list([]), list([]), list([]), list([]), list([]), list([]),\r\n",
        "       list([]), list([]), list([]), list([]), list([]), list([]),\r\n",
        "       list([]), list([]), list([]), list([]), list([]), list([]),\r\n",
        "       list([]), list([]), list([]), list([]), list([]), list([]),\r\n",
        "       list([]), list([]), list([]), list([]),\r\n",
        "       list(['new approach', 'new approach', 'new approach', 'new approach', 'new approach']),\r\n",
        "       list(['Lexical functions', 'Lexical functions', 'Lexical functions', 'Lexical functions']),\r\n",
        "       list([]), list([]), list([])], dtype=object)\r\n",
        "\r\n",
        "```\r\n",
        "\r\n"
      ]
    },
    {
      "cell_type": "code",
      "metadata": {
        "id": "TBYeudxSB-nZ"
      },
      "source": [
        "def pattern(text):\r\n",
        "    from spacy.matcher import Matcher\r\n",
        "    patterns_ = []\r\n",
        "    doc = nlp(text)\r\n",
        "    prog_list = ['method', 'approach','analysis',\r\n",
        "                 'techniques','research']\r\n",
        "    patterns = [[{'LOWER':{'IN':prog_list},'OP':'+'}],\r\n",
        "               [{'POS': 'NOUN'}, {'LOWER': 'of'}, {'POS':'NOUN'}],\r\n",
        "               [{'POS': 'VERB'}, {'LOWER': 'for'}, {'POS':'NOUN'}]]\r\n",
        "    matcher = Matcher(nlp.vocab) \r\n",
        "    for pattern in patterns:\r\n",
        "        matcher.add(\"matching\", None, pattern) \r\n",
        "        matches = matcher(doc)\r\n",
        "        for i in range(0,len(matches)):\r\n",
        "            start, end = matches[i][1], matches[i][2]\r\n",
        "            if doc[start].pos_=='DET':\r\n",
        "                start = start+1\r\n",
        "            span = str(doc[start:end])\r\n",
        "            if (len(patterns_)!=0) and (patterns_[-1] in span):\r\n",
        "                patterns_[-1] = span\r\n",
        "            else:\r\n",
        "                patterns_.append(span)\r\n",
        "    return patterns_"
      ],
      "execution_count": null,
      "outputs": []
    },
    {
      "cell_type": "code",
      "metadata": {
        "id": "dJjg_jfiCA-Q"
      },
      "source": [
        "df.titles.apply(pattern).values\r\n"
      ],
      "execution_count": null,
      "outputs": []
    },
    {
      "cell_type": "markdown",
      "metadata": {
        "id": "E3Bq66IrCFrv"
      },
      "source": [
        "\r\n",
        "\r\n",
        "```\r\n",
        "array([list([]), list([]), list(['analysis']), list([]), list([]),\r\n",
        "       list([]), list([]), list(['part of speech']), list([]), list([]),\r\n",
        "       list(['research']), list([]), list(['techniques']), list([]),\r\n",
        "       list([]), list([]), list([]), list([]), list([]), list([]),\r\n",
        "       list([]), list([]), list([]), list([]), list([]), list([]),\r\n",
        "       list([]), list([]), list([]), list([]), list([]), list([]),\r\n",
        "       list(['techniques']), list([]), list([]), list([]), list([]),\r\n",
        "       list([]), list(['analysis']), list([]), list([]), list([]),\r\n",
        "       list([]), list([]), list(['model of scripts']), list([]),\r\n",
        "       list(['processing of search']), list([]), list([]),\r\n",
        "       list(['method']), list([]), list([]), list([]), list([]), list([]),\r\n",
        "       list([]), list([]),\r\n",
        "       list(['method', 'processing of query', 'method', 'processing of query']),\r\n",
        "       list([]), list([]), list(['interaction of domain']),\r\n",
        "       list(['ontology of space']), list([]), list([]), list([]),\r\n",
        "       list(['techniques']), list([]), list([]), list([]), list([]),\r\n",
        "       list(['processing of sentence']), list([]), list([]),\r\n",
        "       list(['method', 'processing of voice', 'method', 'processing of voice']),\r\n",
        "       list(['approach']), list([]), list([]), list(['method']), list([]),\r\n",
        "       list([]), list([]), list(['processing of discharge']),\r\n",
        "       list(['method', 'processing of sentence', 'method', 'processing of sentence']),\r\n",
        "       list(['semantics of prepositions']), list([]),\r\n",
        "       list(['rank for information']), list([]), list([]),\r\n",
        "       list(['comparison of word']), list([]), list([]), list([]),\r\n",
        "       list([]), list([]),\r\n",
        "       list(['method', 'processing of voice', 'method', 'processing of voice']),\r\n",
        "       list(['approach']), list([]), list(['analysis']), list([]),\r\n",
        "       list(['method'])], dtype=object)\r\n",
        "```\r\n",
        "\r\n"
      ]
    },
    {
      "cell_type": "markdown",
      "metadata": {
        "id": "Dq_7VGmrsum4"
      },
      "source": [
        "## **2. Domain-specific information extraction (10 points)**\n",
        "\n",
        "For the legal case used in the data cleaning exercise: [01-05-1 Adams v Tanner.txt](https://raw.githubusercontent.com/unt-iialab/info5731_spring2021/main/class_exercises/01-05-1%20%20Adams%20v%20Tanner.txt), use [legalNLP](https://lexpredict-lexnlp.readthedocs.io/en/latest/modules/extract/extract.html#nlp-based-extraction-methods) to extract the following inforation from the text (if the information is not exist, just print None):\n",
        "\n",
        "(1) acts, e.g., “section 1 of the Advancing Hope Act, 1986”\n",
        "\n",
        "(2) amounts, e.g., “ten pounds” or “5.8 megawatts”\n",
        "\n",
        "(3) citations, e.g., “10 U.S. 100” or “1998 S. Ct. 1”\n",
        "\n",
        "(4) companies, e.g., “Lexpredict LLC”\n",
        "\n",
        "(5) conditions, e.g., “subject to …” or “unless and until …”\n",
        "\n",
        "(6) constraints, e.g., “no more than”\n",
        "\n",
        "(7) copyright, e.g., “(C) Copyright 2000 Acme”\n",
        "\n",
        "(8) courts, e.g., “Supreme Court of New York”\n",
        "\n",
        "(9) CUSIP, e.g., “392690QT3”\n",
        "\n",
        "(10) dates, e.g., “June 1, 2017” or “2018-01-01”\n",
        "\n",
        "(11) definitions, e.g., “Term shall mean …”\n",
        "\n",
        "(12) distances, e.g., “fifteen miles”\n",
        "\n",
        "(13) durations, e.g., “ten years” or “thirty days”\n",
        "\n",
        "(14) geographic and geopolitical entities, e.g., “New York” or “Norway”\n",
        "\n",
        "(15) money and currency usages, e.g., “$5” or “10 Euro”\n",
        "\n",
        "(16) percents and rates, e.g., “10%” or “50 bps”\n",
        "\n",
        "(17) PII, e.g., “212-212-2121” or “999-999-9999”\n",
        "\n",
        "(18) ratios, e.g.,” 3:1” or “four to three”\n",
        "\n",
        "(19) regulations, e.g., “32 CFR 170”\n",
        "\n",
        "(20) trademarks, e.g., “MyApp (TM)”\n",
        "\n",
        "(21) URLs, e.g., “http://acme.com/”\n",
        "\n",
        "(22) addresses, e.g., “1999 Mount Read Blvd, Rochester, NY, USA, 14615”\n",
        "\n",
        "(23) persons, e.g., “John Doe"
      ]
    },
    {
      "cell_type": "code",
      "metadata": {
        "colab": {
          "base_uri": "https://localhost:8080/",
          "height": 1000
        },
        "id": "QYShnWOy8AVt",
        "outputId": "862d52f1-35dc-4bb9-9780-6e5bc646a5f0"
      },
      "source": [
        "!pip install lexnlp"
      ],
      "execution_count": 9,
      "outputs": [
        {
          "output_type": "stream",
          "text": [
            "Collecting lexnlp\n",
            "\u001b[?25l  Downloading https://files.pythonhosted.org/packages/59/8f/775b5718bdee8b11bb06a4a49172abec78f9e94b865a7382b3b7d5f69cc5/lexnlp-1.8.0-py3-none-any.whl (9.8MB)\n",
            "\u001b[K     |████████████████████████████████| 9.8MB 4.8MB/s \n",
            "\u001b[?25hCollecting pycountry==20.7.3\n",
            "\u001b[?25l  Downloading https://files.pythonhosted.org/packages/76/73/6f1a412f14f68c273feea29a6ea9b9f1e268177d32e0e69ad6790d306312/pycountry-20.7.3.tar.gz (10.1MB)\n",
            "\u001b[K     |████████████████████████████████| 10.1MB 22.2MB/s \n",
            "\u001b[?25hCollecting gensim==3.8.3\n",
            "\u001b[?25l  Downloading https://files.pythonhosted.org/packages/5c/4e/afe2315e08a38967f8a3036bbe7e38b428e9b7a90e823a83d0d49df1adf5/gensim-3.8.3-cp37-cp37m-manylinux1_x86_64.whl (24.2MB)\n",
            "\u001b[K     |████████████████████████████████| 24.2MB 1.7MB/s \n",
            "\u001b[?25hCollecting pandas==0.24.2\n",
            "\u001b[?25l  Downloading https://files.pythonhosted.org/packages/22/e6/2d47835f91eb010036be207581fa113fb4e3822ec1b4bafb0d3d105fede6/pandas-0.24.2-cp37-cp37m-manylinux1_x86_64.whl (10.1MB)\n",
            "\u001b[K     |████████████████████████████████| 10.1MB 42.2MB/s \n",
            "\u001b[?25hCollecting scipy==1.5.1\n",
            "\u001b[?25l  Downloading https://files.pythonhosted.org/packages/30/45/ff9df4beceab76f979ee0ea7f5d248596aa5b0c179aa3d30589a3f4549eb/scipy-1.5.1-cp37-cp37m-manylinux1_x86_64.whl (25.9MB)\n",
            "\u001b[K     |████████████████████████████████| 25.9MB 64.4MB/s \n",
            "\u001b[?25hCollecting reporters-db==2.0.3\n",
            "\u001b[?25l  Downloading https://files.pythonhosted.org/packages/6b/e9/498bada93e69e3162a027d9285e852c464d66aae23ec3c845700ee117414/reporters_db-2.0.3-py2.py3-none-any.whl (72kB)\n",
            "\u001b[K     |████████████████████████████████| 81kB 8.9MB/s \n",
            "\u001b[?25hCollecting joblib==0.14.0\n",
            "\u001b[?25l  Downloading https://files.pythonhosted.org/packages/8f/42/155696f85f344c066e17af287359c9786b436b1bf86029bb3411283274f3/joblib-0.14.0-py2.py3-none-any.whl (294kB)\n",
            "\u001b[K     |████████████████████████████████| 296kB 42.5MB/s \n",
            "\u001b[?25hCollecting dateparser==0.7.2\n",
            "\u001b[?25l  Downloading https://files.pythonhosted.org/packages/82/9d/51126ac615bbc4418478d725a5fa1a0f112059f6f111e4b48cfbe17ef9d0/dateparser-0.7.2-py2.py3-none-any.whl (352kB)\n",
            "\u001b[K     |████████████████████████████████| 358kB 53.3MB/s \n",
            "\u001b[?25hCollecting requests==2.24.0\n",
            "\u001b[?25l  Downloading https://files.pythonhosted.org/packages/45/1e/0c169c6a5381e241ba7404532c16a21d86ab872c9bed8bdcd4c423954103/requests-2.24.0-py2.py3-none-any.whl (61kB)\n",
            "\u001b[K     |████████████████████████████████| 71kB 7.7MB/s \n",
            "\u001b[?25hCollecting num2words==0.5.10\n",
            "\u001b[?25l  Downloading https://files.pythonhosted.org/packages/eb/a2/ea800689730732e27711c41beed4b2a129b34974435bdc450377ec407738/num2words-0.5.10-py3-none-any.whl (101kB)\n",
            "\u001b[K     |████████████████████████████████| 102kB 9.6MB/s \n",
            "\u001b[?25hCollecting scikit-learn==0.23.1\n",
            "\u001b[?25l  Downloading https://files.pythonhosted.org/packages/b8/7e/74e707b66490d4eb05f702966ad0990881127acecf9d5cdcef3c95ec6c16/scikit_learn-0.23.1-cp37-cp37m-manylinux1_x86_64.whl (6.8MB)\n",
            "\u001b[K     |████████████████████████████████| 6.8MB 34.7MB/s \n",
            "\u001b[?25hCollecting nltk==3.5\n",
            "\u001b[?25l  Downloading https://files.pythonhosted.org/packages/92/75/ce35194d8e3022203cca0d2f896dbb88689f9b3fce8e9f9cff942913519d/nltk-3.5.zip (1.4MB)\n",
            "\u001b[K     |████████████████████████████████| 1.4MB 39.3MB/s \n",
            "\u001b[?25hCollecting numpy==1.19.1\n",
            "\u001b[?25l  Downloading https://files.pythonhosted.org/packages/50/8f/29d5688614f9bba59931683d5d353d738d4a3007833219ee19c455732753/numpy-1.19.1-cp37-cp37m-manylinux2010_x86_64.whl (14.5MB)\n",
            "\u001b[K     |████████████████████████████████| 14.5MB 337kB/s \n",
            "\u001b[?25hCollecting regex==2020.7.14\n",
            "\u001b[?25l  Downloading https://files.pythonhosted.org/packages/c7/10/a5f40a296a199dda90432ba0af4dc4221aa5cde31c62b6088c88df971e9e/regex-2020.7.14-cp37-cp37m-manylinux2010_x86_64.whl (660kB)\n",
            "\u001b[K     |████████████████████████████████| 665kB 31.6MB/s \n",
            "\u001b[?25hCollecting us==2.0.2\n",
            "  Downloading https://files.pythonhosted.org/packages/88/04/04323aefa1871de30286d3decae7706481c73bd428cf0c08e158bfa259a6/us-2.0.2.tar.gz\n",
            "Collecting Unidecode==1.1.1\n",
            "\u001b[?25l  Downloading https://files.pythonhosted.org/packages/d0/42/d9edfed04228bacea2d824904cae367ee9efd05e6cce7ceaaedd0b0ad964/Unidecode-1.1.1-py2.py3-none-any.whl (238kB)\n",
            "\u001b[K     |████████████████████████████████| 245kB 29.2MB/s \n",
            "\u001b[?25hCollecting datefinder-lexpredict==0.6.2.1\n",
            "  Downloading https://files.pythonhosted.org/packages/45/d1/e80c60a7c23a4b16338f33345be45c64bd6ff4ef5ab67350b8c94325b8b6/datefinder_lexpredict-0.6.2.1-py2.py3-none-any.whl\n",
            "Requirement already satisfied: six>=1.5.0 in /usr/local/lib/python3.7/dist-packages (from gensim==3.8.3->lexnlp) (1.15.0)\n",
            "Requirement already satisfied: smart-open>=1.8.1 in /usr/local/lib/python3.7/dist-packages (from gensim==3.8.3->lexnlp) (4.2.0)\n",
            "Requirement already satisfied: python-dateutil>=2.5.0 in /usr/local/lib/python3.7/dist-packages (from pandas==0.24.2->lexnlp) (2.8.1)\n",
            "Requirement already satisfied: pytz>=2011k in /usr/local/lib/python3.7/dist-packages (from pandas==0.24.2->lexnlp) (2018.9)\n",
            "Requirement already satisfied: tzlocal in /usr/local/lib/python3.7/dist-packages (from dateparser==0.7.2->lexnlp) (1.5.1)\n",
            "Requirement already satisfied: urllib3!=1.25.0,!=1.25.1,<1.26,>=1.21.1 in /usr/local/lib/python3.7/dist-packages (from requests==2.24.0->lexnlp) (1.24.3)\n",
            "Requirement already satisfied: certifi>=2017.4.17 in /usr/local/lib/python3.7/dist-packages (from requests==2.24.0->lexnlp) (2020.12.5)\n",
            "Requirement already satisfied: chardet<4,>=3.0.2 in /usr/local/lib/python3.7/dist-packages (from requests==2.24.0->lexnlp) (3.0.4)\n",
            "Requirement already satisfied: idna<3,>=2.5 in /usr/local/lib/python3.7/dist-packages (from requests==2.24.0->lexnlp) (2.10)\n",
            "Requirement already satisfied: docopt>=0.6.2 in /usr/local/lib/python3.7/dist-packages (from num2words==0.5.10->lexnlp) (0.6.2)\n",
            "Collecting threadpoolctl>=2.0.0\n",
            "  Downloading https://files.pythonhosted.org/packages/f7/12/ec3f2e203afa394a149911729357aa48affc59c20e2c1c8297a60f33f133/threadpoolctl-2.1.0-py3-none-any.whl\n",
            "Requirement already satisfied: click in /usr/local/lib/python3.7/dist-packages (from nltk==3.5->lexnlp) (7.1.2)\n",
            "Requirement already satisfied: tqdm in /usr/local/lib/python3.7/dist-packages (from nltk==3.5->lexnlp) (4.41.1)\n",
            "Collecting jellyfish==0.6.1\n",
            "\u001b[?25l  Downloading https://files.pythonhosted.org/packages/61/3f/60ac86fb43dfbf976768e80674b5538e535f6eca5aa7806cf2fdfd63550f/jellyfish-0.6.1.tar.gz (132kB)\n",
            "\u001b[K     |████████████████████████████████| 133kB 44.8MB/s \n",
            "\u001b[?25hBuilding wheels for collected packages: pycountry, nltk, us, jellyfish\n",
            "  Building wheel for pycountry (setup.py) ... \u001b[?25l\u001b[?25hdone\n",
            "  Created wheel for pycountry: filename=pycountry-20.7.3-py2.py3-none-any.whl size=10746863 sha256=60a88ccf797ed17286d728ac8c32ffcfcd518ffba3821f86fd5fd9674d156df8\n",
            "  Stored in directory: /root/.cache/pip/wheels/33/4e/a6/be297e6b83567e537bed9df4a93f8590ec01c1acfbcd405348\n",
            "  Building wheel for nltk (setup.py) ... \u001b[?25l\u001b[?25hdone\n",
            "  Created wheel for nltk: filename=nltk-3.5-cp37-none-any.whl size=1434675 sha256=87ab3a07e378d330996c9d836df2f8bac6cdff8a5399dd5c911ca929b6cfe147\n",
            "  Stored in directory: /root/.cache/pip/wheels/ae/8c/3f/b1fe0ba04555b08b57ab52ab7f86023639a526d8bc8d384306\n",
            "  Building wheel for us (setup.py) ... \u001b[?25l\u001b[?25hdone\n",
            "  Created wheel for us: filename=us-2.0.2-cp37-none-any.whl size=11929 sha256=7f45ff21e06c3358306e7da9123d6301531c3de6011e017c6c586015a3a23394\n",
            "  Stored in directory: /root/.cache/pip/wheels/e2/16/45/6453383ffa495670f0f6b80a3e697a9771d98cfbaf8b451e73\n",
            "  Building wheel for jellyfish (setup.py) ... \u001b[?25l\u001b[?25hdone\n",
            "  Created wheel for jellyfish: filename=jellyfish-0.6.1-cp37-cp37m-linux_x86_64.whl size=72134 sha256=4947dc0b7d8d917faee46a78d572747e8255296d4d1c9521fe76cd14341796a3\n",
            "  Stored in directory: /root/.cache/pip/wheels/9c/6f/33/92bb9a4b4562a60ba6a80cedbab8907e48bc7a8b1f369ea0ae\n",
            "Successfully built pycountry nltk us jellyfish\n",
            "\u001b[31mERROR: xarray 0.15.1 has requirement pandas>=0.25, but you'll have pandas 0.24.2 which is incompatible.\u001b[0m\n",
            "\u001b[31mERROR: tensorflow 2.4.1 has requirement numpy~=1.19.2, but you'll have numpy 1.19.1 which is incompatible.\u001b[0m\n",
            "\u001b[31mERROR: plotnine 0.6.0 has requirement pandas>=0.25.0, but you'll have pandas 0.24.2 which is incompatible.\u001b[0m\n",
            "\u001b[31mERROR: mizani 0.6.0 has requirement pandas>=0.25.0, but you'll have pandas 0.24.2 which is incompatible.\u001b[0m\n",
            "\u001b[31mERROR: google-colab 1.0.0 has requirement pandas~=1.1.0; python_version >= \"3.0\", but you'll have pandas 0.24.2 which is incompatible.\u001b[0m\n",
            "\u001b[31mERROR: google-colab 1.0.0 has requirement requests~=2.23.0, but you'll have requests 2.24.0 which is incompatible.\u001b[0m\n",
            "\u001b[31mERROR: fbprophet 0.7.1 has requirement pandas>=1.0.4, but you'll have pandas 0.24.2 which is incompatible.\u001b[0m\n",
            "\u001b[31mERROR: datascience 0.10.6 has requirement folium==0.2.1, but you'll have folium 0.8.3 which is incompatible.\u001b[0m\n",
            "\u001b[31mERROR: albumentations 0.1.12 has requirement imgaug<0.2.7,>=0.2.5, but you'll have imgaug 0.2.9 which is incompatible.\u001b[0m\n",
            "Installing collected packages: pycountry, numpy, scipy, gensim, pandas, reporters-db, joblib, regex, dateparser, requests, num2words, threadpoolctl, scikit-learn, nltk, jellyfish, us, Unidecode, datefinder-lexpredict, lexnlp\n",
            "  Found existing installation: numpy 1.19.5\n",
            "    Uninstalling numpy-1.19.5:\n",
            "      Successfully uninstalled numpy-1.19.5\n",
            "  Found existing installation: scipy 1.4.1\n",
            "    Uninstalling scipy-1.4.1:\n",
            "      Successfully uninstalled scipy-1.4.1\n",
            "  Found existing installation: gensim 3.6.0\n",
            "    Uninstalling gensim-3.6.0:\n",
            "      Successfully uninstalled gensim-3.6.0\n",
            "  Found existing installation: pandas 1.1.5\n",
            "    Uninstalling pandas-1.1.5:\n",
            "      Successfully uninstalled pandas-1.1.5\n",
            "  Found existing installation: joblib 1.0.1\n",
            "    Uninstalling joblib-1.0.1:\n",
            "      Successfully uninstalled joblib-1.0.1\n",
            "  Found existing installation: regex 2019.12.20\n",
            "    Uninstalling regex-2019.12.20:\n",
            "      Successfully uninstalled regex-2019.12.20\n",
            "  Found existing installation: requests 2.23.0\n",
            "    Uninstalling requests-2.23.0:\n",
            "      Successfully uninstalled requests-2.23.0\n",
            "  Found existing installation: scikit-learn 0.22.2.post1\n",
            "    Uninstalling scikit-learn-0.22.2.post1:\n",
            "      Successfully uninstalled scikit-learn-0.22.2.post1\n",
            "  Found existing installation: nltk 3.2.5\n",
            "    Uninstalling nltk-3.2.5:\n",
            "      Successfully uninstalled nltk-3.2.5\n",
            "Successfully installed Unidecode-1.1.1 datefinder-lexpredict-0.6.2.1 dateparser-0.7.2 gensim-3.8.3 jellyfish-0.6.1 joblib-0.14.0 lexnlp-1.8.0 nltk-3.5 num2words-0.5.10 numpy-1.19.1 pandas-0.24.2 pycountry-20.7.3 regex-2020.7.14 reporters-db-2.0.3 requests-2.24.0 scikit-learn-0.23.1 scipy-1.5.1 threadpoolctl-2.1.0 us-2.0.2\n"
          ],
          "name": "stdout"
        },
        {
          "output_type": "display_data",
          "data": {
            "application/vnd.colab-display-data+json": {
              "pip_warning": {
                "packages": [
                  "numpy",
                  "pandas",
                  "requests"
                ]
              }
            }
          },
          "metadata": {
            "tags": []
          }
        }
      ]
    },
    {
      "cell_type": "code",
      "metadata": {
        "id": "XXvtoF6m8JwP"
      },
      "source": [
        ""
      ],
      "execution_count": null,
      "outputs": []
    },
    {
      "cell_type": "code",
      "metadata": {
        "id": "qc7NtJrLx5tS"
      },
      "source": [
        "# write your code here\r\n",
        "import lexnlp\r\n",
        "import re"
      ],
      "execution_count": 10,
      "outputs": []
    },
    {
      "cell_type": "code",
      "metadata": {
        "id": "AQAvTdxb7MjP"
      },
      "source": [
        "with open('01-05-1  Adams v Tanner.txt', 'r', encoding=\"utf8\") as file:\r\n",
        "    text = file.read()\r\n"
      ],
      "execution_count": 11,
      "outputs": []
    },
    {
      "cell_type": "code",
      "metadata": {
        "id": "LT1JmieU7Mf7"
      },
      "source": [
        "text = re.sub(r'\\n',' ', str(text))\r\n"
      ],
      "execution_count": 12,
      "outputs": []
    },
    {
      "cell_type": "code",
      "metadata": {
        "colab": {
          "base_uri": "https://localhost:8080/"
        },
        "id": "1HCBpFCZ7Mdz",
        "outputId": "7f95d6fb-a1ee-44f9-8d8f-dd439628a7d5"
      },
      "source": [
        "import lexnlp.extract.en.acts\r\n",
        "lexnlp.extract.en.acts.get_act_list(text)"
      ],
      "execution_count": 13,
      "outputs": [
        {
          "output_type": "execute_result",
          "data": {
            "text/plain": [
              "[]"
            ]
          },
          "metadata": {
            "tags": []
          },
          "execution_count": 13
        }
      ]
    },
    {
      "cell_type": "code",
      "metadata": {
        "colab": {
          "base_uri": "https://localhost:8080/"
        },
        "id": "HsNnKUTu8bnV",
        "outputId": "36690824-f0ee-4f76-f806-6a2b02bc2ea9"
      },
      "source": [
        "import nltk\r\n",
        "nltk.download('punkt')"
      ],
      "execution_count": 15,
      "outputs": [
        {
          "output_type": "stream",
          "text": [
            "[nltk_data] Downloading package punkt to /root/nltk_data...\n",
            "[nltk_data]   Unzipping tokenizers/punkt.zip.\n"
          ],
          "name": "stderr"
        },
        {
          "output_type": "execute_result",
          "data": {
            "text/plain": [
              "True"
            ]
          },
          "metadata": {
            "tags": []
          },
          "execution_count": 15
        }
      ]
    },
    {
      "cell_type": "code",
      "metadata": {
        "colab": {
          "base_uri": "https://localhost:8080/"
        },
        "id": "_aWvUGT28h0l",
        "outputId": "5c54cc6a-59d5-4aaf-a5b3-265926d149ce"
      },
      "source": [
        "nltk.download('averaged_perceptron_tagger')"
      ],
      "execution_count": 17,
      "outputs": [
        {
          "output_type": "stream",
          "text": [
            "[nltk_data] Downloading package averaged_perceptron_tagger to\n",
            "[nltk_data]     /root/nltk_data...\n",
            "[nltk_data]   Unzipping taggers/averaged_perceptron_tagger.zip.\n"
          ],
          "name": "stderr"
        },
        {
          "output_type": "execute_result",
          "data": {
            "text/plain": [
              "True"
            ]
          },
          "metadata": {
            "tags": []
          },
          "execution_count": 17
        }
      ]
    },
    {
      "cell_type": "code",
      "metadata": {
        "colab": {
          "base_uri": "https://localhost:8080/"
        },
        "id": "EPdWt2dQ8lEx",
        "outputId": "91ca56c7-9b71-4f88-baff-de254656247e"
      },
      "source": [
        "nltk.download('wordnet')"
      ],
      "execution_count": 19,
      "outputs": [
        {
          "output_type": "stream",
          "text": [
            "[nltk_data] Downloading package wordnet to /root/nltk_data...\n",
            "[nltk_data]   Unzipping corpora/wordnet.zip.\n"
          ],
          "name": "stderr"
        },
        {
          "output_type": "execute_result",
          "data": {
            "text/plain": [
              "True"
            ]
          },
          "metadata": {
            "tags": []
          },
          "execution_count": 19
        }
      ]
    },
    {
      "cell_type": "code",
      "metadata": {
        "colab": {
          "base_uri": "https://localhost:8080/"
        },
        "id": "FberfFL67Mao",
        "outputId": "38f0d4b3-88b9-46da-d436-21bd27702b14"
      },
      "source": [
        "# amounts\r\n",
        "import lexnlp.extract.en.amounts\r\n",
        "for amount in list(lexnlp.extract.en.amounts.get_amounts(text)):\r\n",
        "    print(amount, end=', ')"
      ],
      "execution_count": 20,
      "outputs": [
        {
          "output_type": "stream",
          "text": [
            "5.0, 740.0, 1843.0, 2.0, 1.0, 4.0, 2.0, 1821.0, 5.0, 1.0, 1840.0, 3777.0, 80.0, 100.0, 30.0, 1839.0, 741.0, 22.0, 1840.0, 14000.0, 120.0, 1.0, 1840.0, 3.0, 4.0, 1.0, 1.0, 1840.0, 2.0, 1.0, 361.0, 1.0, 307.0, 6.0, 604.0, 1.0, 2.0, 418.0, 422.0, 7.0, 34.0, 41.0, 167.0, 742.0, 3.0, 112.0, 207.0, 3.0, 338.0, 424.0, 5.0, 26.0, 13.0, 235.0, 8.0, 693.0, 4.0, 1821.0, 167.0, 2.0, 2.0, 216.0, 3.0, 66.0, 4.0, 130.0, 29.0, 2.0, 241.0, 2.0, 332.0, 2.0, 422.0, 9.0, 112.0, 743.0, 9.0, 39.0, 14000.0, 1840.0, 744.0, 5.0, 182.0, 3.0, 368.0, 1.0, 397.0, 6.0, 604.0, 1.0, 1821.0, 167.0, 745.0, 4.0, 746.0, 4.0, 210.0, 46.0, 747.0, 5.0, 5.0, 740.0, 1843.0, 284.0, 2019.0, 9.0, 1.0, 55.0, 266.0, 271.0, 1876.0, 2.0, 47.0, 362.0, 376.0, 1872.0, 3.0, 45.0, 329.0, 334.0, 1871.0, 4.0, 31.0, 526.0, 527.0, 1858.0, 5.0, 21.0, 333.0, 335.0, 1852.0, 6.0, 8.0, 145.0, 147.0, 1857.0, 7.0, 65.0, 256.0, 258.0, 3.0, 1880.0, 8.0, 4.0, 913.0, 914.0, 1887.0, 9.0, 103.0, 464.0, 1936.0, 3.0, 1.0, 9.0, 39.0, 1828.0, 2.0, 2.0, 5.0, 182.0, 1837.0, 2.0, 3.0, 9.0, 108.0, 1812.0, 6.0, 1.0, 2.0, "
          ],
          "name": "stdout"
        }
      ]
    },
    {
      "cell_type": "code",
      "metadata": {
        "colab": {
          "base_uri": "https://localhost:8080/"
        },
        "id": "nIim-5No7MYo",
        "outputId": "51a761f4-74c5-4ab9-dabe-289637331dd6"
      },
      "source": [
        "\r\n",
        "import lexnlp.extract.en.citations\r\n",
        "_ = [print(citation) for citation in list(lexnlp.extract.en.citations.get_citations(text))]"
      ],
      "execution_count": 21,
      "outputs": [
        {
          "output_type": "stream",
          "text": [
            "(5, 'Ala.', 'Alabama Reports', 740, None, None, None)\n",
            "(5, 'Ala.', 'Alabama Reports', 740, '1843', None, None)\n",
            "(55, 'Ala.', 'Alabama Reports', 266, '271', None, None)\n",
            "(47, 'Ala.', 'Alabama Reports', 362, '376', None, None)\n",
            "(45, 'Ala.', 'Alabama Reports', 329, '334', None, None)\n",
            "(31, 'Ala.', 'Alabama Reports', 526, '527', None, None)\n",
            "(21, 'Ala.', 'Alabama Reports', 333, '335', None, None)\n",
            "(8, 'Cal.', 'California Reports', 145, '147', None, None)\n",
            "(65, 'Ala.', 'Alabama Reports', 256, '258', None, None)\n",
            "(4, 'S.W.', 'South Western Reporter', 913, '914', None, None)\n",
            "(103, 'A.L.R.', 'American Law Reports', 464, None, None, None)\n",
            "(9, 'Cow.', \"Cowen's Reports\", 39, None, None, None)\n",
            "(5, 'Port.', 'Alabama Reports, Porter', 182, None, None, None)\n",
            "(9, 'Johns.', \"Johnson's Reports\", 108, None, None, None)\n"
          ],
          "name": "stdout"
        }
      ]
    },
    {
      "cell_type": "code",
      "metadata": {
        "colab": {
          "base_uri": "https://localhost:8080/"
        },
        "id": "kpzBHZ6h7MWC",
        "outputId": "93b63c5e-4fc1-4818-bfe0-9f541b787065"
      },
      "source": [
        "import lexnlp.extract.en.entities.nltk_re\r\n",
        "_ = [print(company) for company in list(lexnlp.extract.en.entities.nltk_re.get_companies(text))]"
      ],
      "execution_count": 22,
      "outputs": [
        {
          "output_type": "stream",
          "text": [
            "Lehman, Durr Co, (17983, 18001)\n"
          ],
          "name": "stdout"
        }
      ]
    },
    {
      "cell_type": "code",
      "metadata": {
        "colab": {
          "base_uri": "https://localhost:8080/"
        },
        "id": "VckRAGwd7MT8",
        "outputId": "a7eecbde-5e35-4404-a02a-956c3e746fbd"
      },
      "source": [
        "import lexnlp.extract.en.conditions\r\n",
        "_ = [print(condition) for condition in list(lexnlp.extract.en.conditions.get_conditions(text))]"
      ],
      "execution_count": 23,
      "outputs": [
        {
          "output_type": "stream",
          "text": [
            "('until', '4 Cases that cite this headnote  [2] Creditors’ Remedies Lien and Priority Under St.1821, prohibiting a levy on a crop', '')\n",
            "('until', 'on a growing crop, nor does such lien attach', '')\n",
            "('if', 'It was proved by the claimants, by the production of a written contract, that Harrison, on the twenty-second of May, 1840, in consideration that the claimants were involved, as indorsers for Burton & Harrison of Sumter county, and were then exposed to an execution, amounting to upwards of fourteen thousand dollars, bargained and sold to the claimants all his growing crop of cotton &c., consisting of one hundred and twenty acres, &c. Allen Harrison promised and obliged himself to give up his crop to the use of the claimants at any time to save them from suffering as his indorsers;', '')\n",
            "('when', 'The claimants came from Tennessee, (where they resided) about the first of September, 1840, bringing with them three or four white laborers, and took possession of the crop and slaves, and with the latter, and white laborers, gathered the cotton, prepared it for market, and', '')\n",
            "('if', 'The court charged the jury, that the plaintiff had no lien by virtue of his judgment, and execution on the growing crop; that Harrison had a right to convey it, without being in any manner restrained by them; that the writing adduced, was a sale of the crop, but', '')\n",
            "('when', 'it was not, and the lien of the fieri facias would have attached upon it,', '')\n",
            "('if', 'gathered, yet', '')\n",
            "('not subject to', 'the claimants obtained possession on the first of September, and controlled the gathering of the crop, then no lien attached, and it was', '')\n",
            "('until', 'Rep, 693;] and', '')\n",
            "('until', '167,] which declares it to be lawful to levy an execution on a planted crop,', '')\n",
            "('if', 'It is admitted that the contract between the defendant in execution, and the claimants, was in good faith,', '')\n",
            "('when', 'The defendant in execution might at any time have divested the interest which the contract vested in the claimants, by discharging their liability as his indorsers, or a judgment creditor might have satisfied the lien, and', '')\n",
            "('unless', 'We will then consider the writing under which the claimants assert a right, as a mortgage with a power to take possession any time during the year,', '')\n",
            "('if', 'Conceding the truth of the facts stated in the bill of exceptions, and we think it will not follow, that the possession of the claimants is a nullity, and that the case must be considered as', '')\n",
            "('if', 'The contract contains an express undertaking to give up the crop at any time the claimants might require it for their indemnity, and', '')\n",
            "('if', 'they took possession of it in the absence of the grantor, (though without his consent,)', '')\n",
            "('if', 'he subsequently acquiesced in it, the inference would be,', '')\n",
            "('subject to', 'Mr. Dane, in remarking upon this point, says, “The American editor of Bacon’s Abridgment, says, ‘Wheat growing in the ground is a chattel, and', '')\n",
            "('until', 'The first section of the act of 1821, “To prevent sheriffs and other officers from levying executions in certain cases, enacts, that “It shall not be lawful for any sheriff or other officer, to levy a writ of fieri facias or other execution on the planted crop of a debtor, or person against whom an execution may issue,', '')\n",
            "('until', 'Now here is an express inhibition to levy an execution on a crop while it remains on, or in the ground, and', '')\n",
            "('until', 'If so, the act cited, will only have the effect of keeping the right to levy it in abeyance', '')\n",
            "('if', 'The lien and the right to levy are intimately connected, and', '')\n",
            "('until', 'That it was competent for the legislature to have made it unlawful to levy an execution on particular property,', '')\n",
            "('until', 'If the object was merely to suspend the sale,', '')\n",
            "('as soon as', 'The idea that the lien attached upon the planted crop', '')\n",
            "('until', 'the execution was delivered to the sheriff, though the right to levy it was postponed', '')\n",
            "('if', 'They do not refer to the lien,', '')\n",
            "('until', 'they did they would postpone it', '')\n",
            "('until', 'the crop was gathered; but it is the levy they relate to and postpone', '')\n",
            "('until', '**4 The right to levy an execution on a planted crop, then, being expressly taken away by the statute, the lien which is connected with and consequent upon that right, never attaches', '')\n",
            "('if', 'The circuit judge may have mistaken the law in supposing that the contract was a sale, but', '')\n",
            "('when', 'There is no assumption of any material fact in the charge; but the possession of the claimant, the time', '')\n",
            "('if', 'acquired, the gathering of the crop, &c., are all referred to the determination of the jury; who are instructed,', '')\n",
            "('until', '**4 The statute which presents the question before the court is, that “it shall not be lawful for any sheriff or other officer to levy a writ of fieei facias or other execution, on the planted crop of a debtor, or person against whom an execution may issue,', '')\n",
            "('subject to', 'The policy of the State, as indicated by these statutes, is undeniably that all the property of a debtor, real and personal, to which he has a legal title, shall be', '')\n",
            "('until', 'The mischief which the statute designed to remedy was, the sacrifice which would be necessarily made by the sale of an immature crop: the statute enables the debtor to retain it', '')\n",
            "('if', '**5', '')\n",
            "('until', 'The sheriff is forbidden to levy on a “planted crop”', '')\n",
            "('if', 'Now,', '')\n",
            "('until', 'This, I feel a thorough conviction, was not the intention of the legislature; but that it was to secure him from loss, by prohibiting a levy and sale of the crop,', '')\n",
            "('when', 'it was gathered,', '')\n",
            "('subject to', 'Growing crops as', '')\n",
            "('subject to', '464 Generally, at common law, growing crops raised by annual planting, while still attached to the soil, are regarded as personal chattels,', '')\n",
            "('where', 'And', '')\n"
          ],
          "name": "stdout"
        }
      ]
    },
    {
      "cell_type": "code",
      "metadata": {
        "colab": {
          "base_uri": "https://localhost:8080/"
        },
        "id": "zxpRSt838xmG",
        "outputId": "4e854999-419f-4b1b-bdc3-789b62045370"
      },
      "source": [
        "import lexnlp.extract.en.constraints\r\n",
        "_ = [print(constraint) for constraint in list(lexnlp.extract.en.constraints.get_constraints(text))]"
      ],
      "execution_count": 24,
      "outputs": [
        {
          "output_type": "stream",
          "text": [
            "('after', 'on a growing crop, nor does such lien attach until', '')\n",
            "('after', '', ' and that alias and pluries fieri facias’, issued regularly up to the time levy was made; that the cotton levied on was growed on the plantation of harrison, and cultivated by the hands in his service.')\n",
            "('first of', 'the claimants came from tennessee, (where they resided) about the', '')\n",
            "('first of', 'the court charged the jury, that the plaintiff had no lien by virtue of his judgment, and execution on the growing crop; that harrison had a right to convey it, without being in any manner restrained by them; that the writing adduced, was a sale of the crop, but if it was not, and the lien of the fieri facias would have attached upon it, when gathered, yet if the claimants obtained possession on the', '')\n",
            "('after', 'it merely inhibits the levy, but the lien attaches, and a levy and sale may be made', '')\n",
            "('more than', 'taking this to be clear *744 law, and it will be seen, that the defendant in execution at the time of the levy had nothing', '')\n",
            "('before', 'it has been frequently mooted whether, at common law, corn, &c.,', '')\n",
            "('before', '**4 the statute which presents the question', '')\n",
            "('after', 'now, if the view taken by the majority of the court, is correct, the right secured to the plaintiff in execution, of levying on the crop', '')\n",
            "('before', 'tried', '')\n",
            "('before', 'tried', '')\n",
            "('before', 'tried', '')\n",
            "('before', 'tried', '')\n",
            "('before', 'tried', '')\n",
            "('before', 'tried', '')\n"
          ],
          "name": "stdout"
        }
      ]
    },
    {
      "cell_type": "code",
      "metadata": {
        "colab": {
          "base_uri": "https://localhost:8080/"
        },
        "id": "j6j-9e938xdQ",
        "outputId": "2eff5022-8ec4-4c60-a23a-2ce964e2bae8"
      },
      "source": [
        "\r\n",
        "# copyrights\r\n",
        "import lexnlp.extract.en.copyright\r\n",
        "_ = [print(copyright) for copyright in list(lexnlp.extract.en.copyright.get_copyright(text))]"
      ],
      "execution_count": 25,
      "outputs": [
        {
          "output_type": "stream",
          "text": [
            "('©', '2019', 'Thomson Reuters. No')\n"
          ],
          "name": "stdout"
        }
      ]
    },
    {
      "cell_type": "code",
      "metadata": {
        "id": "Ikn1Z0JW83x6"
      },
      "source": [
        "from lexnlp.extract.en.dict_entities import entity_config\r\n"
      ],
      "execution_count": null,
      "outputs": []
    },
    {
      "cell_type": "code",
      "metadata": {
        "id": "W91G8Wlg87xW"
      },
      "source": [
        "import pandas\r\n",
        "import lexnlp.extract.en.dict_entities\r\n",
        "court_df = pandas.read_csv(\"https://raw.githubusercontent.com/LexPredict/lexpredict-legal-dictionary/1.0.5/en/legal/us_courts.csv\")\r\n",
        "# Create config objects\r\n",
        "court_config_data = []\r\n",
        "for _, row in court_df.iterrows():\r\n",
        "    c = (row[\"Court ID\"], row[\"Court Name\"], 0, row[\"Alias\"].split(\";\") if not pandas.isnull(row[\"Alias\"]) else [])\r\n",
        "    court_config_data.append(c)\r\n",
        "for entity, alias in lexnlp.extract.en.courts.get_courts(text, court_config_data):\r\n",
        "    print(\"entity=\", entity)\r\n",
        "    print(\"alias=\", alias)\r\n",
        "entity= (98, 'Eastern District of Virginia', 0, [('Eastern District of Virginia', None, False, None), ('E.D. Va.', None, False, None)])\r\n",
        "alias= ('E.D. Va.', None, False, None)\r\n",
        "entity= (70, 'Southern District of New York', 0, [('Southern District of New York', None, False, None), ('S.D.N.Y.', None, False, None)])\r\n",
        "alias= ('S.D.N.Y.', None, False, None)"
      ],
      "execution_count": null,
      "outputs": []
    },
    {
      "cell_type": "code",
      "metadata": {
        "colab": {
          "base_uri": "https://localhost:8080/"
        },
        "id": "_AWjbJzy88tL",
        "outputId": "3e41b862-f991-4a19-f7dd-e6e787e0839a"
      },
      "source": [
        "import lexnlp.extract.en.cusip\r\n",
        "list(lexnlp.extract.en.cusip.get_cusip(text))"
      ],
      "execution_count": 36,
      "outputs": [
        {
          "output_type": "execute_result",
          "data": {
            "text/plain": [
              "[]"
            ]
          },
          "metadata": {
            "tags": []
          },
          "execution_count": 36
        }
      ]
    },
    {
      "cell_type": "code",
      "metadata": {
        "colab": {
          "base_uri": "https://localhost:8080/"
        },
        "id": "ySLgX2pt8-yf",
        "outputId": "65a0d145-f14d-476b-ba03-d0a0e9332b83"
      },
      "source": [
        "import lexnlp.extract.en.dates\r\n",
        "_ = [print(date) for date in list(lexnlp.extract.en.dates.get_dates(text))]"
      ],
      "execution_count": 37,
      "outputs": [
        {
          "output_type": "stream",
          "text": [
            "2021-06-01\n",
            "1840-11-01\n",
            "1839-10-01\n",
            "1840-09-01\n",
            "1840-05-01\n",
            "1840-05-01\n",
            "2021-12-01\n",
            "2021-12-01\n",
            "2021-01-01\n",
            "2021-01-01\n",
            "2021-01-01\n",
            "2021-03-21\n",
            "2021-06-01\n",
            "2021-07-01\n",
            "2021-11-01\n"
          ],
          "name": "stdout"
        }
      ]
    },
    {
      "cell_type": "code",
      "metadata": {
        "colab": {
          "base_uri": "https://localhost:8080/"
        },
        "id": "i8HPcufV9BJM",
        "outputId": "11dd1ffc-b8fa-45f7-f5e2-a32d35a3ed2e"
      },
      "source": [
        "import lexnlp.extract.en.definitions\r\n",
        "list(lexnlp.extract.en.definitions.get_definitions(text))"
      ],
      "execution_count": 38,
      "outputs": [
        {
          "output_type": "execute_result",
          "data": {
            "text/plain": [
              "[]"
            ]
          },
          "metadata": {
            "tags": []
          },
          "execution_count": 38
        }
      ]
    },
    {
      "cell_type": "code",
      "metadata": {
        "colab": {
          "base_uri": "https://localhost:8080/"
        },
        "id": "qf4949ZU9DTC",
        "outputId": "0ef47ab6-6e3f-45e5-eaa7-50a17af1d55a"
      },
      "source": [
        "import lexnlp.extract.en.distances\r\n",
        "list(lexnlp.extract.en.distances.get_distances(text))"
      ],
      "execution_count": 39,
      "outputs": [
        {
          "output_type": "execute_result",
          "data": {
            "text/plain": [
              "[]"
            ]
          },
          "metadata": {
            "tags": []
          },
          "execution_count": 39
        }
      ]
    },
    {
      "cell_type": "code",
      "metadata": {
        "colab": {
          "base_uri": "https://localhost:8080/"
        },
        "id": "xxhoS5qj9Fc8",
        "outputId": "5fb2dedc-9fee-4ae5-880c-a495ec061ca0"
      },
      "source": [
        "\r\n",
        "#durations\r\n",
        "import lexnlp.extract.en.durations\r\n",
        "list(lexnlp.extract.en.durations.get_durations(text))"
      ],
      "execution_count": 41,
      "outputs": [
        {
          "output_type": "execute_result",
          "data": {
            "text/plain": [
              "[('second', Decimal('20.0'), Decimal('0.0002')),\n",
              " ('year', Decimal('6.0'), Decimal('2190.0'))]"
            ]
          },
          "metadata": {
            "tags": []
          },
          "execution_count": 41
        }
      ]
    },
    {
      "cell_type": "code",
      "metadata": {
        "id": "Hy74sGQw9Hdi"
      },
      "source": [
        "import lexnlp.extract.en.geoentities\r\n",
        "lexnlp.extract.en.geoentities.get_geoentities(text)"
      ],
      "execution_count": null,
      "outputs": []
    },
    {
      "cell_type": "code",
      "metadata": {
        "colab": {
          "base_uri": "https://localhost:8080/"
        },
        "id": "LUNWVWtn9KCD",
        "outputId": "b85925a9-3724-414a-94ea-6ef85d1e4323"
      },
      "source": [
        "import lexnlp.extract.en.money\r\n",
        "list(lexnlp.extract.en.money.get_money(text))"
      ],
      "execution_count": 43,
      "outputs": [
        {
          "output_type": "execute_result",
          "data": {
            "text/plain": [
              "[(Decimal('100.0'), 'USD'),\n",
              " (Decimal('14000.0'), 'USD'),\n",
              " (Decimal('14000.0'), 'USD')]"
            ]
          },
          "metadata": {
            "tags": []
          },
          "execution_count": 43
        }
      ]
    },
    {
      "cell_type": "code",
      "metadata": {
        "colab": {
          "base_uri": "https://localhost:8080/"
        },
        "id": "wzuoFyMH9RY_",
        "outputId": "53f9bd63-a095-401e-ee1a-b3db2d74f0d9"
      },
      "source": [
        "import lexnlp.extract.en.percents\r\n",
        "list(lexnlp.extract.en.percents.get_percents(text))"
      ],
      "execution_count": 44,
      "outputs": [
        {
          "output_type": "execute_result",
          "data": {
            "text/plain": [
              "[]"
            ]
          },
          "metadata": {
            "tags": []
          },
          "execution_count": 44
        }
      ]
    },
    {
      "cell_type": "code",
      "metadata": {
        "colab": {
          "base_uri": "https://localhost:8080/"
        },
        "id": "BeLk-CeA9RVr",
        "outputId": "1b243b5b-49ae-4616-edd9-94da01406b6b"
      },
      "source": [
        "import lexnlp.extract.en.pii\r\n",
        "list(lexnlp.extract.en.pii.get_pii(text))"
      ],
      "execution_count": 45,
      "outputs": [
        {
          "output_type": "execute_result",
          "data": {
            "text/plain": [
              "[]"
            ]
          },
          "metadata": {
            "tags": []
          },
          "execution_count": 45
        }
      ]
    },
    {
      "cell_type": "code",
      "metadata": {
        "colab": {
          "base_uri": "https://localhost:8080/"
        },
        "id": "wwBFmIN69RTj",
        "outputId": "2240b8aa-9986-4a1b-b5a8-4e4b2b930e97"
      },
      "source": [
        "import lexnlp.extract.en.ratios\r\n",
        "list(lexnlp.extract.en.ratios.get_ratios(text))"
      ],
      "execution_count": 46,
      "outputs": [
        {
          "output_type": "execute_result",
          "data": {
            "text/plain": [
              "[]"
            ]
          },
          "metadata": {
            "tags": []
          },
          "execution_count": 46
        }
      ]
    },
    {
      "cell_type": "code",
      "metadata": {
        "colab": {
          "base_uri": "https://localhost:8080/"
        },
        "id": "KVNqVobP9RRk",
        "outputId": "a632e090-0c93-415f-a3c2-792f8aa7b5e2"
      },
      "source": [
        "import lexnlp.extract.en.regulations\r\n",
        "list(lexnlp.extract.en.regulations.get_regulations(text))"
      ],
      "execution_count": 47,
      "outputs": [
        {
          "output_type": "execute_result",
          "data": {
            "text/plain": [
              "[]"
            ]
          },
          "metadata": {
            "tags": []
          },
          "execution_count": 47
        }
      ]
    },
    {
      "cell_type": "code",
      "metadata": {
        "colab": {
          "base_uri": "https://localhost:8080/"
        },
        "id": "YYO2cNXg9Wid",
        "outputId": "9b96fad6-8034-4ce7-ec24-5f0dc7af2c42"
      },
      "source": [
        "import lexnlp.extract.en.trademarks\r\n",
        "list(lexnlp.extract.en.trademarks.get_trademarks(text))"
      ],
      "execution_count": 48,
      "outputs": [
        {
          "output_type": "execute_result",
          "data": {
            "text/plain": [
              "[]"
            ]
          },
          "metadata": {
            "tags": []
          },
          "execution_count": 48
        }
      ]
    },
    {
      "cell_type": "code",
      "metadata": {
        "colab": {
          "base_uri": "https://localhost:8080/"
        },
        "id": "G8pj41eI9WfI",
        "outputId": "a8da9efd-0322-4e75-b0d7-31d7bffd9111"
      },
      "source": [
        "import lexnlp.extract.en.urls\r\n",
        "list(lexnlp.extract.en.urls.get_urls(text))"
      ],
      "execution_count": 49,
      "outputs": [
        {
          "output_type": "execute_result",
          "data": {
            "text/plain": [
              "[]"
            ]
          },
          "metadata": {
            "tags": []
          },
          "execution_count": 49
        }
      ]
    }
  ]
}