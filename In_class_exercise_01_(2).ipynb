{
  "nbformat": 4,
  "nbformat_minor": 0,
  "metadata": {
    "colab": {
      "name": "In_class_exercise_01 (2).ipynb",
      "provenance": [],
      "collapsed_sections": [],
      "include_colab_link": true
    },
    "kernelspec": {
      "display_name": "Python 3",
      "language": "python",
      "name": "python3"
    },
    "language_info": {
      "codemirror_mode": {
        "name": "ipython",
        "version": 3
      },
      "file_extension": ".py",
      "mimetype": "text/x-python",
      "name": "python",
      "nbconvert_exporter": "python",
      "pygments_lexer": "ipython3",
      "version": "3.7.4"
    }
  },
  "cells": [
    {
      "cell_type": "markdown",
      "metadata": {
        "id": "view-in-github",
        "colab_type": "text"
      },
      "source": [
        "<a href=\"https://colab.research.google.com/github/rushithakondreddy/haihua_INFO5731_Spring2020/blob/main/In_class_exercise_01_(2).ipynb\" target=\"_parent\"><img src=\"https://colab.research.google.com/assets/colab-badge.svg\" alt=\"Open In Colab\"/></a>"
      ]
    },
    {
      "cell_type": "markdown",
      "metadata": {
        "id": "DymRJbxDBCnf"
      },
      "source": [
        "# **The first In-class-exercise (1/19/2021, 20 points in total)**"
      ]
    },
    {
      "cell_type": "markdown",
      "metadata": {
        "id": "03jb4GZsBkBS"
      },
      "source": [
        "(1) Write a Python program to calculate the length of a string. (2 points)"
      ]
    },
    {
      "cell_type": "code",
      "metadata": {
        "id": "YaGLbSHHB8Ej",
        "colab": {
          "base_uri": "https://localhost:8080/"
        },
        "outputId": "1a07a99e-6bdf-492c-e781-2789c9abf147"
      },
      "source": [
        "\n",
        "#  input the string and store it in a variable x\n",
        "x = input(\"Enter a string: \")\n",
        "# counter variable to count the character in a string\n",
        "counter = 0\n",
        "for y in x:\n",
        "      counter = counter+1\n",
        "print(\"Length of the input string is:\", counter)\n"
      ],
      "execution_count": 2,
      "outputs": [
        {
          "output_type": "stream",
          "text": [
            "Enter a string: rushitha \n",
            "Length of the input string is: 9\n"
          ],
          "name": "stdout"
        }
      ]
    },
    {
      "cell_type": "markdown",
      "metadata": {
        "id": "jJDe71iLB616"
      },
      "source": [
        "## **(2) Write a Python program to count the number of characters in a string. (2 points)**\n",
        "\n",
        "Sample String : 'google.com‘, \n",
        "\n",
        "Expected Result : {'o': 3, 'g': 2, '.': 1, 'e': 1, 'l': 1, 'm': 1, 'c': 1}"
      ]
    },
    {
      "cell_type": "code",
      "metadata": {
        "colab": {
          "base_uri": "https://localhost:8080/"
        },
        "id": "qPI9ZTzmPRqL",
        "outputId": "d13ccbed-7f8e-4336-c360-7f70a77659cb"
      },
      "source": [
        "from collections import Counter \n",
        "test_str = \"google.com\"\n",
        "\n",
        "res = Counter(test_str) \n",
        "\n",
        "# printing result  \n",
        "print (\"Count of all characters  :\\n \" + str (res))"
      ],
      "execution_count": 1,
      "outputs": [
        {
          "output_type": "stream",
          "text": [
            "Count of all characters  :\n",
            " Counter({'o': 3, 'g': 2, 'l': 1, 'e': 1, '.': 1, 'c': 1, 'm': 1})\n"
          ],
          "name": "stdout"
        }
      ]
    },
    {
      "cell_type": "markdown",
      "metadata": {
        "id": "55W9AMdXCSpV"
      },
      "source": [
        "(3) Write a Python program to sum all the items in a list. (2 points)"
      ]
    },
    {
      "cell_type": "code",
      "metadata": {
        "id": "I57NXsauCec2",
        "colab": {
          "base_uri": "https://localhost:8080/"
        },
        "outputId": "5f0c2028-979e-415a-99e4-a16d85136e84"
      },
      "source": [
        "#\n",
        "# creating a list\n",
        "list_given = [10, 20, 30, 40, 50]\n",
        "# using sum() function\n",
        "total = sum(list_given)\n",
        "# printing total value\n",
        "print(\"Sum of all elements in given list: \", total)"
      ],
      "execution_count": 5,
      "outputs": [
        {
          "output_type": "stream",
          "text": [
            "Sum of all elements in given list:  150\n"
          ],
          "name": "stdout"
        }
      ]
    },
    {
      "cell_type": "markdown",
      "metadata": {
        "id": "4ulBZ6yhCi9F"
      },
      "source": [
        "(4) Write a Python program to get a string from a given string where all occurrences of its first char have been changed to '\\$', except the first char itself. (2 points)\n",
        "\n",
        "Sample String : 'restart‘, \n",
        "\n",
        "Expected Result : 'resta\\$t'"
      ]
    },
    {
      "cell_type": "code",
      "metadata": {
        "id": "Fj0XhwbBCw2o",
        "colab": {
          "base_uri": "https://localhost:8080/"
        },
        "outputId": "ea43b4f1-01b1-40a3-bf23-ef028b00ee5d"
      },
      "source": [
        "\n",
        "def change_char(str1):  \n",
        "  char = str1[0]  \n",
        "  length = len(str1)  \n",
        "  str1 = str1.replace(char, '$')  \n",
        "  str1 = char + str1[1:]  \n",
        "  \n",
        "  return str1  \n",
        "  \n",
        "print(change_char('restart'))"
      ],
      "execution_count": 6,
      "outputs": [
        {
          "output_type": "stream",
          "text": [
            "resta$t\n"
          ],
          "name": "stdout"
        }
      ]
    },
    {
      "cell_type": "markdown",
      "metadata": {
        "id": "_bIP7s1MCzue"
      },
      "source": [
        "(5) Write a program with python which could accept two parameter a and b to calculate and output the result of S, where \n",
        "\n",
        "$\\ S=3.14*(1+a/b)^3$ (3 points)\n",
        "\n"
      ]
    },
    {
      "cell_type": "code",
      "metadata": {
        "id": "w79QilHXD3Mg",
        "colab": {
          "base_uri": "https://localhost:8080/"
        },
        "outputId": "fab3a4e8-26ff-4dc5-bcbe-312734a26298"
      },
      "source": [
        "## write your answer here\n",
        "a = float(input('Enter the value of a :'))\n",
        "b = float(input('Enter the value of b :'))\n",
        "\n",
        "𝑆 = 3.14 * (1+ (𝑎/𝑏))**3\n",
        "print('The output:',S)\n",
        " "
      ],
      "execution_count": 7,
      "outputs": [
        {
          "output_type": "stream",
          "text": [
            "Enter the value of a :3\n",
            "Enter the value of b :5\n",
            "The output: 12.861440000000004\n"
          ],
          "name": "stdout"
        }
      ]
    },
    {
      "cell_type": "markdown",
      "metadata": {
        "id": "xCa2bK9aD4Q3"
      },
      "source": [
        "(6) Write a Python program to concatenate following dictionaries to create a new one. (3 points)\n",
        "\n",
        "Sample Dictionary : dic1={1:10, 2:20}, dic2={3:30, 4:40}, dic3={5:50,6:60}, \n",
        "\n",
        "Expected Result : {1: 10, 2: 20, 3: 30, 4: 40, 5: 50, 6: 60}\n"
      ]
    },
    {
      "cell_type": "code",
      "metadata": {
        "id": "_z4aLqAbEET1",
        "colab": {
          "base_uri": "https://localhost:8080/"
        },
        "outputId": "b48ab5cd-f14f-4c4c-f697-7d3f867666dc"
      },
      "source": [
        "## write your answer here\n",
        "dic1={1:10, 2:20}\n",
        "dic2={3:30, 4:40}\n",
        "dic3={5:50,6:60}\n",
        "expected_result = {}\n",
        "for d in (dic1, dic2, dic3): \n",
        "  expected_result.update(d)\n",
        "print(expected_result)\n"
      ],
      "execution_count": 8,
      "outputs": [
        {
          "output_type": "stream",
          "text": [
            "{1: 10, 2: 20, 3: 30, 4: 40, 5: 50, 6: 60}\n"
          ],
          "name": "stdout"
        }
      ]
    },
    {
      "cell_type": "markdown",
      "metadata": {
        "id": "0v48Vqa7FrQh"
      },
      "source": [
        "(7) Write a Python program to check whether an element exists within a tuple. (3 points)"
      ]
    },
    {
      "cell_type": "code",
      "metadata": {
        "id": "7WEmgq-DF2P1",
        "colab": {
          "base_uri": "https://localhost:8080/"
        },
        "outputId": "4df6ec58-394d-477d-8617-c82b654bc7e7"
      },
      "source": [
        "\n",
        "\n",
        "  \n",
        "# initialize tuple \n",
        "test1 = (13, 40, 5, 43, 90) \n",
        "print(\"The original tuple is : \" + str(test1)) \n",
        "  \n",
        "# initialize N  \n",
        "N = float(input('Enter the value  :'))\n",
        "  \n",
        "# Using in operator to check whether element is present in tuple\n",
        "res = N in test1\n",
        "#  result \n",
        "print(\"IS the element present in tuple: \" + str (res))"
      ],
      "execution_count": 22,
      "outputs": [
        {
          "output_type": "stream",
          "text": [
            "The original tuple is : (13, 40, 5, 43, 90)\n",
            "Enter the value  :40\n",
            "IS the element present in tuple: True\n"
          ],
          "name": "stdout"
        }
      ]
    },
    {
      "cell_type": "markdown",
      "metadata": {
        "id": "vD5PYLMuGga_"
      },
      "source": [
        "(8) Write a Python program to find maximum and the minimum value in a set. (3 points)"
      ]
    },
    {
      "cell_type": "code",
      "metadata": {
        "id": "t0D5kdJUGjjw",
        "colab": {
          "base_uri": "https://localhost:8080/"
        },
        "outputId": "2c48f4e7-215c-4540-9c32-54c64d652f36"
      },
      "source": [
        "## write your answer here\n",
        "def MAX(sets): \n",
        "    return (max(sets)) \n",
        "def MIN(sets):\n",
        "    return (min(sets))\n",
        "sets = set([8, 16, 24, 1, 25, 3, 10, 65, 55]) \n",
        "print(MAX(sets)) \n",
        "print(MIN(sets))\n"
      ],
      "execution_count": 10,
      "outputs": [
        {
          "output_type": "stream",
          "text": [
            "65\n",
            "1\n"
          ],
          "name": "stdout"
        }
      ]
    },
    {
      "cell_type": "markdown",
      "metadata": {
        "id": "uHkd-y5VhVWC"
      },
      "source": [
        "(9) Write a Python program to randomly divide the students in this class into five groups for term projects, each group should have at least 3 students but no more than 5 students (including 5). Here is the students list: (3 points for extra)\n",
        "\n",
        "studnet_list = ['vmb0067','pc0353','snd0097','yye0005','sg0940','bk0301','rak0120','rrk0058','spk0057','vl0135','nm0547','pn0159',\n",
        "                'msp0174','dd0420','ds0761','rs0850','ss1995','at0739','at0768','mv0299','tv0119','dy0091']"
      ]
    },
    {
      "cell_type": "code",
      "metadata": {
        "id": "3iGbmcOBhTwy",
        "colab": {
          "base_uri": "https://localhost:8080/"
        },
        "outputId": "82229217-1383-492a-9144-a53fb7d387ed"
      },
      "source": [
        "# write your answer here\n",
        "\n",
        "from itertools import islice\n",
        "from random import randint\n",
        "li=['vmb0067','pc0353','snd0097','yye0005','sg0940','bk0301','rak0120','rrk0058','spk0057','vl0135','nm0547','pn0159', 'msp0174','dd0420','ds0761','rs0850','ss1995','at0739','at0768','mv0299','tv0119','dy0091']\n",
        "def random_chunk(li, min_chunk=3, max_chunk=5):\n",
        "    it = iter(li)\n",
        "    while True:\n",
        "        nxt = list(islice(it,randint(min_chunk,max_chunk)))\n",
        "        if nxt:\n",
        "            yield nxt\n",
        "        else:\n",
        "            break\n",
        "list(random_chunk(li))\n",
        "\n",
        "\n",
        "\n"
      ],
      "execution_count": 12,
      "outputs": [
        {
          "output_type": "execute_result",
          "data": {
            "text/plain": [
              "[['vmb0067', 'pc0353', 'snd0097', 'yye0005'],\n",
              " ['sg0940', 'bk0301', 'rak0120', 'rrk0058'],\n",
              " ['spk0057', 'vl0135', 'nm0547', 'pn0159'],\n",
              " ['msp0174', 'dd0420', 'ds0761'],\n",
              " ['rs0850', 'ss1995', 'at0739', 'at0768'],\n",
              " ['mv0299', 'tv0119', 'dy0091']]"
            ]
          },
          "metadata": {
            "tags": []
          },
          "execution_count": 12
        }
      ]
    }
  ]
}