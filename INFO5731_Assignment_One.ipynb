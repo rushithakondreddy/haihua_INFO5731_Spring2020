{
  "nbformat": 4,
  "nbformat_minor": 0,
  "metadata": {
    "colab": {
      "name": "INFO5731_Assignment_One.ipynb",
      "provenance": [],
      "collapsed_sections": [],
      "toc_visible": true,
      "include_colab_link": true
    },
    "kernelspec": {
      "name": "python3",
      "display_name": "Python 3"
    }
  },
  "cells": [
    {
      "cell_type": "markdown",
      "metadata": {
        "id": "view-in-github",
        "colab_type": "text"
      },
      "source": [
        "<a href=\"https://colab.research.google.com/github/rushithakondreddy/haihua_INFO5731_Spring2020/blob/main/INFO5731_Assignment_One.ipynb\" target=\"_parent\"><img src=\"https://colab.research.google.com/assets/colab-badge.svg\" alt=\"Open In Colab\"/></a>"
      ]
    },
    {
      "cell_type": "markdown",
      "metadata": {
        "id": "Ryk8D1Q4Wsrp"
      },
      "source": [
        "# **INFO5731 Assignment One**"
      ]
    },
    {
      "cell_type": "markdown",
      "metadata": {
        "id": "90_NR8c5XGWc"
      },
      "source": [
        "# Question 1\n",
        "\n",
        "(20 points). Write a Python program to generate 12 random numbers between 1 and 100. Sort the list of numbers in ascending order and print it out. Sort the list of numbers in descending order and print it out. Calculate the average for the group and print it out."
      ]
    },
    {
      "cell_type": "code",
      "metadata": {
        "id": "5QX6bJjGWXY9",
        "colab": {
          "base_uri": "https://localhost:8080/",
          "height": 34
        },
        "outputId": "3313544e-b0dc-4caa-bb9c-bde06889a7b6"
      },
      "source": [
        "from random import *\n",
        "result = []\n",
        "for num in range(12):\n",
        "  result.append(randint(1,100))\n",
        "result"
      ],
      "execution_count": null,
      "outputs": [
        {
          "output_type": "execute_result",
          "data": {
            "text/plain": [
              "[58, 26, 57, 90, 21, 57, 64, 50, 9, 47, 68, 93]"
            ]
          },
          "metadata": {
            "tags": []
          },
          "execution_count": 158
        }
      ]
    },
    {
      "cell_type": "code",
      "metadata": {
        "id": "VGVqZUnH8X4E",
        "colab": {
          "base_uri": "https://localhost:8080/",
          "height": 50
        },
        "outputId": "3dd2c020-48fc-4199-bb75-71f14eb10266"
      },
      "source": [
        "asc = result.copy()\n",
        "asc.sort()\n",
        "print(asc)\n",
        "\n",
        "desc = result.copy()\n",
        "desc.sort(reverse = True)\n",
        "desc"
      ],
      "execution_count": null,
      "outputs": [
        {
          "output_type": "stream",
          "text": [
            "[9, 21, 26, 47, 50, 57, 57, 58, 64, 68, 90, 93]\n"
          ],
          "name": "stdout"
        },
        {
          "output_type": "execute_result",
          "data": {
            "text/plain": [
              "[93, 90, 68, 64, 58, 57, 57, 50, 47, 26, 21, 9]"
            ]
          },
          "metadata": {
            "tags": []
          },
          "execution_count": 159
        }
      ]
    },
    {
      "cell_type": "code",
      "metadata": {
        "id": "mrLYkHS9I6ce",
        "colab": {
          "base_uri": "https://localhost:8080/",
          "height": 34
        },
        "outputId": "b1e89a39-35f8-444a-ae72-e29af93c6d15"
      },
      "source": [
        "import numpy as np\n",
        "print(np.mean(result))"
      ],
      "execution_count": null,
      "outputs": [
        {
          "output_type": "stream",
          "text": [
            "47.416666666666664\n"
          ],
          "name": "stdout"
        }
      ]
    },
    {
      "cell_type": "markdown",
      "metadata": {
        "id": "1F_PZdH9Sh49"
      },
      "source": [
        "# Question 2\n",
        "(25 points). Write a program that will do the following string formatting tasks:\n",
        "\n",
        "(1) Ask the user to enter two sentences.\n",
        "\n",
        "(2) Make each sentence into a list. Each element in the list should correspond to a word in the sentence. For example, if the sentence is \"Alas! Am I alive? This is my first python program\", the program should print out ['Alas, '!', 'Am', 'I', 'alive, '?', 'This', 'is', 'my', 'first', 'python', 'program'].\n",
        "\n",
        "(3) Compare the two sentences. Print out a list of words that occur in both sentences.\n",
        "\n",
        "(4) Remove any punctuation from the sentence and print it back out. It should remove at least the following characters, but it can remove more: period(“.”), comma (“,”), semicolon (“;”), and colon (“:”)\n",
        "\n",
        "(5) Count the number of vowels in the sentences. Print out each vowel and the number of times it appears in the sentences, such as: a:2, e:1, i:0, etc"
      ]
    },
    {
      "cell_type": "code",
      "metadata": {
        "id": "Dg-zpYatIeBZ",
        "colab": {
          "base_uri": "https://localhost:8080/",
          "height": 50
        },
        "outputId": "3c37cc99-567c-4921-cebf-f8cd7ec4c72b"
      },
      "source": [
        "a = input(\"Enter sentence1\")\n",
        "b = input(\"Enter sentence2\")"
      ],
      "execution_count": null,
      "outputs": [
        {
          "output_type": "stream",
          "text": [
            "Enter sentence1Alas! Python is a good, programming language\n",
            "Enter sentence2Unt; has good resources. to study\n"
          ],
          "name": "stdout"
        }
      ]
    },
    {
      "cell_type": "code",
      "metadata": {
        "id": "Y0oOSlsOS0cq",
        "colab": {
          "base_uri": "https://localhost:8080/",
          "height": 50
        },
        "outputId": "4c796a0b-64bb-4913-c50a-3dc192946224"
      },
      "source": [
        "import re\n",
        "c = re.split(r'([ .,!?;])', a)\n",
        "d = re.split(r'([ .,!?])', b)\n",
        "print(c)\n",
        "print(d)"
      ],
      "execution_count": null,
      "outputs": [
        {
          "output_type": "stream",
          "text": [
            "['Alas', '!', '', ' ', 'Python', ' ', 'is', ' ', 'a', ' ', 'good', ',', '', ' ', 'programming', ' ', 'language']\n",
            "['Unt;', ' ', 'has', ' ', 'good', ' ', 'resources', '.', '', ' ', 'to', ' ', 'study']\n"
          ],
          "name": "stdout"
        }
      ]
    },
    {
      "cell_type": "code",
      "metadata": {
        "id": "M6IPF3fK0xbD",
        "colab": {
          "base_uri": "https://localhost:8080/",
          "height": 50
        },
        "outputId": "7d179ee6-846d-4abe-b740-ee3f3aaf7961"
      },
      "source": [
        "c_new = []\n",
        "for var in c:\n",
        "  if((var !='') and (var!= ' ')):\n",
        "    c_new.append(var)\n",
        "print(c_new)\n",
        "\n",
        "d_new = []\n",
        "for var2 in d:\n",
        "  if((var2 !='') and (var2 != ' ')):\n",
        "    d_new.append(var2)\n",
        "print(d_new)"
      ],
      "execution_count": null,
      "outputs": [
        {
          "output_type": "stream",
          "text": [
            "['Alas', '!', 'Python', 'is', 'a', 'good', ',', 'programming', 'language']\n",
            "['Unt;', 'has', 'good', 'resources', '.', 'to', 'study']\n"
          ],
          "name": "stdout"
        }
      ]
    },
    {
      "cell_type": "code",
      "metadata": {
        "id": "3pygfCZwDQb4",
        "colab": {
          "base_uri": "https://localhost:8080/",
          "height": 34
        },
        "outputId": "799dca5e-4cb7-40e0-e6f1-64e4beaa7a49"
      },
      "source": [
        "#Printing common words in both sentenes\n",
        "\n",
        "common = []\n",
        "for x in c_new:\n",
        "  for y in d_new:\n",
        "    if y == x:\n",
        "      common.append(y)\n",
        "print(common)\n",
        "  "
      ],
      "execution_count": null,
      "outputs": [
        {
          "output_type": "stream",
          "text": [
            "['good']\n"
          ],
          "name": "stdout"
        }
      ]
    },
    {
      "cell_type": "code",
      "metadata": {
        "id": "byPOL2EaKzfy",
        "colab": {
          "base_uri": "https://localhost:8080/",
          "height": 50
        },
        "outputId": "8b222cdb-5485-4b12-b07c-ba166fbabdfe"
      },
      "source": [
        "#Removing punctuations from string\n",
        "\n",
        "punctuations = '''!()-[]{};:'\"\\,<>./?@#$%^&*_~'''\n",
        "a_new = \"\"\n",
        "b_new = \"\"\n",
        "for char in a:\n",
        "  if char not in punctuations:\n",
        "    a_new = a_new + char\n",
        "print(a_new)\n",
        "\n",
        "for char1 in b:\n",
        "  if char1 not in punctuations:\n",
        "    b_new = b_new + char1\n",
        "print(b_new)"
      ],
      "execution_count": null,
      "outputs": [
        {
          "output_type": "stream",
          "text": [
            "Alas Python is a good programming language\n",
            "Unt has good resources to study\n"
          ],
          "name": "stdout"
        }
      ]
    },
    {
      "cell_type": "code",
      "metadata": {
        "id": "9q-MgBvTL5wW",
        "colab": {
          "base_uri": "https://localhost:8080/",
          "height": 50
        },
        "outputId": "755a4899-0f93-4143-b914-c30573058f22"
      },
      "source": [
        "#no.of vowels\n",
        "\n",
        "vowels = \"aeiou\"\n",
        "result = {}.fromkeys(vowels,0)\n",
        "result1 = {}.fromkeys(vowels,0)\n",
        "a_new =a_new.casefold()\n",
        "b_new = b_new.casefold()\n",
        "for char in a_new:\n",
        "  if char in vowels:\n",
        "    result[char] += 1\n",
        "print(result)\n",
        "for char1 in b_new:\n",
        "  if char1 in vowels:\n",
        "    result1[char1] += 1\n",
        "print(result1)"
      ],
      "execution_count": null,
      "outputs": [
        {
          "output_type": "stream",
          "text": [
            "{'a': 6, 'e': 1, 'i': 2, 'o': 4, 'u': 1}\n",
            "{'a': 1, 'e': 2, 'i': 0, 'o': 4, 'u': 3}\n"
          ],
          "name": "stdout"
        }
      ]
    },
    {
      "cell_type": "markdown",
      "metadata": {
        "id": "CmFoI4jDS9nx"
      },
      "source": [
        "# Question 3 \n",
        "\n",
        "(15 points). The formula that describes the volume V of a sphere with radius r is the following:\n",
        "\n",
        "$ V=\\frac{4}{3}\\ast\\ \\pi\\ast\\ r^3 $\n",
        "\n",
        "Write a program to calculate the value of V when r is in the range of 1–10. Output the result in the following format:\n",
        "\n",
        "\tr\tV\n",
        "\t1\t…\n",
        "\t2\t…\n",
        "\t3\t…\n"
      ]
    },
    {
      "cell_type": "code",
      "metadata": {
        "id": "pEyqeioAT95b",
        "colab": {
          "base_uri": "https://localhost:8080/",
          "height": 185
        },
        "outputId": "c503a0e1-6bcb-47a4-acfe-f3c873cc8baa"
      },
      "source": [
        "print('r',  'V')\n",
        "pi = 3.14\n",
        "def volume(r):\n",
        "  vol = (4/3)*pi*r*r*r \n",
        "  print(r,  vol)\n",
        "\n",
        "for var in range(1,10):\n",
        "  volume(var)\n",
        "  \n"
      ],
      "execution_count": null,
      "outputs": [
        {
          "output_type": "stream",
          "text": [
            "r V\n",
            "1 4.1866666666666665\n",
            "2 33.49333333333333\n",
            "3 113.03999999999998\n",
            "4 267.94666666666666\n",
            "5 523.3333333333334\n",
            "6 904.3199999999998\n",
            "7 1436.0266666666666\n",
            "8 2143.5733333333333\n",
            "9 3052.08\n"
          ],
          "name": "stdout"
        }
      ]
    },
    {
      "cell_type": "markdown",
      "metadata": {
        "id": "z3tBE7E-Xn5X"
      },
      "source": [
        "# Question 4\n",
        "\n",
        "(40 points). In the field of Data Science, data is often formatted as a comma-delimited (CSV) file, where each line in a file corresponds to a field's value. Refer to Chapter 9 (p. 106) for more information on comma-delimited files. To answer this question, you will need to download the file [Assignment1_denton_housing.csv](https://github.com/unt-iialab/INFO5731_Spring2020/blob/master/Assignments/Assignment1_denton_housing.csv) included with this assignment. The [file Assignment1_denton_housing.csv](https://github.com/unt-iialab/INFO5731_Spring2020/blob/master/Assignments/Assignment1_denton_housing.csv) contains statistics about housing in the city of Denton from 2008 to 2014. Write a program to implement the following questions.\n",
        "\n",
        "(1) (10 pts) Calculate the difference in the number of Occupied Housing Units from year to year and print it. The difference must be calculated for the consecutive years such as 2008-2009, 2009-2010 etc. Finally, print the values in the ascending order.\n",
        "\n",
        "(2) (10 pts) For all the years, calculate the percentage of housing units which are vacant an occupied. Print the results in the following format:\n",
        "\n",
        "Year Vacant Housing Units Occupied Housing Units\n",
        "\n",
        "    2008  30%   70%                          \n",
        "\t2009 ----- -----\n",
        "\t2010 ----- -----\n",
        "    2011 ----- -----\n",
        "\t2012 ----- -----\n",
        "    2013 ----- -----\n",
        "\t2014 ----- -----\n",
        "  \n",
        "  \n",
        "\n",
        "(3) (10 pts) Calculate and print the valued and years in which the highest number of housing units were vacant and occupied. Print the results in the following format:  \n",
        "\n",
        "                              Year\tValue\n",
        "\tVacant Housing Units\t  -----   -----\n",
        "\tOccupied Housing Units\t-----   -----\n",
        "\n",
        "(4) (10 pts) Calculate the harmonic mean of the total housing units and print it out. You can find the information about harmonic mean here: https://ncalculators.com/statistics/harmonic-mean-calculator.htm"
      ]
    },
    {
      "cell_type": "code",
      "metadata": {
        "id": "lqGYuHBhcsRH"
      },
      "source": [
        "import pandas as pd\n",
        "url = 'https://raw.githubusercontent.com/unt-iialab/INFO5731_Spring2020/master/Assignments/Assignment1_denton_housing.csv'\n",
        "df = pd.read_csv(url, error_bad_lines=False)\n"
      ],
      "execution_count": null,
      "outputs": []
    },
    {
      "cell_type": "markdown",
      "metadata": {
        "id": "u4U7h5DwEWyK"
      },
      "source": [
        "(1) (10 pts) Calculate the difference in the number of Occupied Housing Units from year to year and print it. The difference must be calculated for the consecutive years such as 2008-2009, 2009-2010 etc. Finally, print the values in the ascending order."
      ]
    },
    {
      "cell_type": "code",
      "metadata": {
        "id": "TDHSNAUj_dBa",
        "colab": {
          "base_uri": "https://localhost:8080/",
          "height": 254
        },
        "outputId": "9d92f082-57e6-460a-f516-7c641345dec6"
      },
      "source": [
        "\n",
        "f1 = df.loc[df['title_field']=='Occupied Housing Units']\n",
        "f1"
      ],
      "execution_count": null,
      "outputs": [
        {
          "output_type": "execute_result",
          "data": {
            "text/html": [
              "<div>\n",
              "<style scoped>\n",
              "    .dataframe tbody tr th:only-of-type {\n",
              "        vertical-align: middle;\n",
              "    }\n",
              "\n",
              "    .dataframe tbody tr th {\n",
              "        vertical-align: top;\n",
              "    }\n",
              "\n",
              "    .dataframe thead th {\n",
              "        text-align: right;\n",
              "    }\n",
              "</style>\n",
              "<table border=\"1\" class=\"dataframe\">\n",
              "  <thead>\n",
              "    <tr style=\"text-align: right;\">\n",
              "      <th></th>\n",
              "      <th>year</th>\n",
              "      <th>title_field</th>\n",
              "      <th>value</th>\n",
              "    </tr>\n",
              "  </thead>\n",
              "  <tbody>\n",
              "    <tr>\n",
              "      <th>2</th>\n",
              "      <td>2014</td>\n",
              "      <td>Occupied Housing Units</td>\n",
              "      <td>46295</td>\n",
              "    </tr>\n",
              "    <tr>\n",
              "      <th>5</th>\n",
              "      <td>2013</td>\n",
              "      <td>Occupied Housing Units</td>\n",
              "      <td>43673</td>\n",
              "    </tr>\n",
              "    <tr>\n",
              "      <th>8</th>\n",
              "      <td>2012</td>\n",
              "      <td>Occupied Housing Units</td>\n",
              "      <td>42108</td>\n",
              "    </tr>\n",
              "    <tr>\n",
              "      <th>11</th>\n",
              "      <td>2011</td>\n",
              "      <td>Occupied Housing Units</td>\n",
              "      <td>40704</td>\n",
              "    </tr>\n",
              "    <tr>\n",
              "      <th>14</th>\n",
              "      <td>2010</td>\n",
              "      <td>Occupied Housing Units</td>\n",
              "      <td>41007</td>\n",
              "    </tr>\n",
              "    <tr>\n",
              "      <th>17</th>\n",
              "      <td>2009</td>\n",
              "      <td>Occupied Housing Units</td>\n",
              "      <td>35916</td>\n",
              "    </tr>\n",
              "    <tr>\n",
              "      <th>20</th>\n",
              "      <td>2008</td>\n",
              "      <td>Occupied Housing Units</td>\n",
              "      <td>36711</td>\n",
              "    </tr>\n",
              "  </tbody>\n",
              "</table>\n",
              "</div>"
            ],
            "text/plain": [
              "    year             title_field  value\n",
              "2   2014  Occupied Housing Units  46295\n",
              "5   2013  Occupied Housing Units  43673\n",
              "8   2012  Occupied Housing Units  42108\n",
              "11  2011  Occupied Housing Units  40704\n",
              "14  2010  Occupied Housing Units  41007\n",
              "17  2009  Occupied Housing Units  35916\n",
              "20  2008  Occupied Housing Units  36711"
            ]
          },
          "metadata": {
            "tags": []
          },
          "execution_count": 180
        }
      ]
    },
    {
      "cell_type": "code",
      "metadata": {
        "id": "6ByH1gfgIB8b"
      },
      "source": [
        "\n",
        "df_filter1 = f1.sort_values(by = ['year'],ascending =True)"
      ],
      "execution_count": null,
      "outputs": []
    },
    {
      "cell_type": "code",
      "metadata": {
        "id": "pjUe72HlOi13",
        "colab": {
          "base_uri": "https://localhost:8080/",
          "height": 254
        },
        "outputId": "aa17a3b4-1d16-4b6f-d8f1-7a3e8a3807c0"
      },
      "source": [
        "df_filter1"
      ],
      "execution_count": null,
      "outputs": [
        {
          "output_type": "execute_result",
          "data": {
            "text/html": [
              "<div>\n",
              "<style scoped>\n",
              "    .dataframe tbody tr th:only-of-type {\n",
              "        vertical-align: middle;\n",
              "    }\n",
              "\n",
              "    .dataframe tbody tr th {\n",
              "        vertical-align: top;\n",
              "    }\n",
              "\n",
              "    .dataframe thead th {\n",
              "        text-align: right;\n",
              "    }\n",
              "</style>\n",
              "<table border=\"1\" class=\"dataframe\">\n",
              "  <thead>\n",
              "    <tr style=\"text-align: right;\">\n",
              "      <th></th>\n",
              "      <th>year</th>\n",
              "      <th>title_field</th>\n",
              "      <th>value</th>\n",
              "    </tr>\n",
              "  </thead>\n",
              "  <tbody>\n",
              "    <tr>\n",
              "      <th>20</th>\n",
              "      <td>2008</td>\n",
              "      <td>Occupied Housing Units</td>\n",
              "      <td>36711</td>\n",
              "    </tr>\n",
              "    <tr>\n",
              "      <th>17</th>\n",
              "      <td>2009</td>\n",
              "      <td>Occupied Housing Units</td>\n",
              "      <td>35916</td>\n",
              "    </tr>\n",
              "    <tr>\n",
              "      <th>14</th>\n",
              "      <td>2010</td>\n",
              "      <td>Occupied Housing Units</td>\n",
              "      <td>41007</td>\n",
              "    </tr>\n",
              "    <tr>\n",
              "      <th>11</th>\n",
              "      <td>2011</td>\n",
              "      <td>Occupied Housing Units</td>\n",
              "      <td>40704</td>\n",
              "    </tr>\n",
              "    <tr>\n",
              "      <th>8</th>\n",
              "      <td>2012</td>\n",
              "      <td>Occupied Housing Units</td>\n",
              "      <td>42108</td>\n",
              "    </tr>\n",
              "    <tr>\n",
              "      <th>5</th>\n",
              "      <td>2013</td>\n",
              "      <td>Occupied Housing Units</td>\n",
              "      <td>43673</td>\n",
              "    </tr>\n",
              "    <tr>\n",
              "      <th>2</th>\n",
              "      <td>2014</td>\n",
              "      <td>Occupied Housing Units</td>\n",
              "      <td>46295</td>\n",
              "    </tr>\n",
              "  </tbody>\n",
              "</table>\n",
              "</div>"
            ],
            "text/plain": [
              "    year             title_field  value\n",
              "20  2008  Occupied Housing Units  36711\n",
              "17  2009  Occupied Housing Units  35916\n",
              "14  2010  Occupied Housing Units  41007\n",
              "11  2011  Occupied Housing Units  40704\n",
              "8   2012  Occupied Housing Units  42108\n",
              "5   2013  Occupied Housing Units  43673\n",
              "2   2014  Occupied Housing Units  46295"
            ]
          },
          "metadata": {
            "tags": []
          },
          "execution_count": 182
        }
      ]
    },
    {
      "cell_type": "code",
      "metadata": {
        "id": "GQ1-CC9pIGvN",
        "colab": {
          "base_uri": "https://localhost:8080/",
          "height": 151
        },
        "outputId": "92f8cea8-cc60-4fc9-8967-2fa29d0d9514"
      },
      "source": [
        "df_result = df_filter1['value'].diff()\n",
        "df_result\n"
      ],
      "execution_count": null,
      "outputs": [
        {
          "output_type": "execute_result",
          "data": {
            "text/plain": [
              "20       NaN\n",
              "17    -795.0\n",
              "14    5091.0\n",
              "11    -303.0\n",
              "8     1404.0\n",
              "5     1565.0\n",
              "2     2622.0\n",
              "Name: value, dtype: float64"
            ]
          },
          "metadata": {
            "tags": []
          },
          "execution_count": 183
        }
      ]
    },
    {
      "cell_type": "code",
      "metadata": {
        "id": "m50Cqt-ENHRg",
        "colab": {
          "base_uri": "https://localhost:8080/",
          "height": 151
        },
        "outputId": "8ad0d352-e5dd-43c5-dc21-800d06751de1"
      },
      "source": [
        "df_result.sort_values(ascending= True)"
      ],
      "execution_count": null,
      "outputs": [
        {
          "output_type": "execute_result",
          "data": {
            "text/plain": [
              "17    -795.0\n",
              "11    -303.0\n",
              "8     1404.0\n",
              "5     1565.0\n",
              "2     2622.0\n",
              "14    5091.0\n",
              "20       NaN\n",
              "Name: value, dtype: float64"
            ]
          },
          "metadata": {
            "tags": []
          },
          "execution_count": 184
        }
      ]
    },
    {
      "cell_type": "code",
      "metadata": {
        "id": "pp1zkVkmlMYo",
        "colab": {
          "base_uri": "https://localhost:8080/",
          "height": 151
        },
        "outputId": "de91c20c-4103-4dd8-cb91-87c7817d9843"
      },
      "source": [
        "#(2) For all the years, calculate the percentage of housing units which are vacant an occupied. \n",
        "\n",
        "import numpy as np\n",
        "year = f1.year\n",
        "year_array = np.array(year)\n",
        "f1_value = f1.value\n",
        "Occupied = np.array(f1_value)\n",
        "f2 = df.loc[df['title_field']=='Vacant Housing Units']\n",
        "Vacant = f2.value\n",
        "f3 = df.loc[df['title_field']=='Total Housing Units']\n",
        "f3_value = f3.value\n",
        "Total = np.array(f3_value)\n",
        "Occupied_percentage = Occupied/Total * 100\n",
        "Vacant_percentage = Vacant/Total * 100\n",
        "dataset = pd.DataFrame({'Year': year_array , 'Vacant Housing Units':Vacant_percentage,'Occupied Housing Units':Occupied_percentage })\n",
        "print(dataset)\n"
      ],
      "execution_count": null,
      "outputs": [
        {
          "output_type": "stream",
          "text": [
            "    Year  Vacant Housing Units  Occupied Housing Units\n",
            "1   2014              5.730111               94.269889\n",
            "4   2013              8.801788               91.198212\n",
            "7   2012              6.677600               93.322400\n",
            "10  2011              9.379522               90.620478\n",
            "13  2010              8.142556               91.857444\n",
            "16  2009              9.071116               90.928884\n",
            "19  2008             10.882653               89.117347\n"
          ],
          "name": "stdout"
        }
      ]
    },
    {
      "cell_type": "code",
      "metadata": {
        "id": "wByCGXKhTFUl",
        "colab": {
          "base_uri": "https://localhost:8080/",
          "height": 225
        },
        "outputId": "d7f7c5c8-2e01-4d44-952c-c5b08573c27d"
      },
      "source": [
        "#(3)Calculate and print the values and years in which the highest number of housing units were vacant and occupied. \n",
        "\n",
        "a = df.groupby(['title_field'])['value'].transform(max) == df['value']\n",
        "df5 = df[a]\n",
        "df5"
      ],
      "execution_count": null,
      "outputs": [
        {
          "output_type": "execute_result",
          "data": {
            "text/html": [
              "<div>\n",
              "<style scoped>\n",
              "    .dataframe tbody tr th:only-of-type {\n",
              "        vertical-align: middle;\n",
              "    }\n",
              "\n",
              "    .dataframe tbody tr th {\n",
              "        vertical-align: top;\n",
              "    }\n",
              "\n",
              "    .dataframe thead th {\n",
              "        text-align: right;\n",
              "    }\n",
              "</style>\n",
              "<table border=\"1\" class=\"dataframe\">\n",
              "  <thead>\n",
              "    <tr style=\"text-align: right;\">\n",
              "      <th></th>\n",
              "      <th>year</th>\n",
              "      <th>title_field</th>\n",
              "      <th>value</th>\n",
              "    </tr>\n",
              "  </thead>\n",
              "  <tbody>\n",
              "    <tr>\n",
              "      <th>0</th>\n",
              "      <td>2014</td>\n",
              "      <td>Total Housing Units</td>\n",
              "      <td>49109</td>\n",
              "    </tr>\n",
              "    <tr>\n",
              "      <th>2</th>\n",
              "      <td>2014</td>\n",
              "      <td>Occupied Housing Units</td>\n",
              "      <td>46295</td>\n",
              "    </tr>\n",
              "    <tr>\n",
              "      <th>19</th>\n",
              "      <td>2008</td>\n",
              "      <td>Vacant Housing Units</td>\n",
              "      <td>4483</td>\n",
              "    </tr>\n",
              "    <tr>\n",
              "      <th>21</th>\n",
              "      <td>2014</td>\n",
              "      <td>Owner Occupied</td>\n",
              "      <td>21427</td>\n",
              "    </tr>\n",
              "    <tr>\n",
              "      <th>22</th>\n",
              "      <td>2014</td>\n",
              "      <td>Renter Occupied</td>\n",
              "      <td>24868</td>\n",
              "    </tr>\n",
              "    <tr>\n",
              "      <th>35</th>\n",
              "      <td>2014</td>\n",
              "      <td>Median Gross Rent</td>\n",
              "      <td>905</td>\n",
              "    </tr>\n",
              "  </tbody>\n",
              "</table>\n",
              "</div>"
            ],
            "text/plain": [
              "    year             title_field  value\n",
              "0   2014     Total Housing Units  49109\n",
              "2   2014  Occupied Housing Units  46295\n",
              "19  2008    Vacant Housing Units   4483\n",
              "21  2014          Owner Occupied  21427\n",
              "22  2014         Renter Occupied  24868\n",
              "35  2014       Median Gross Rent    905"
            ]
          },
          "metadata": {
            "tags": []
          },
          "execution_count": 141
        }
      ]
    },
    {
      "cell_type": "code",
      "metadata": {
        "id": "I7XDZviu1Kts",
        "colab": {
          "base_uri": "https://localhost:8080/",
          "height": 106
        },
        "outputId": "ed2b6b37-42c8-43bc-f3f7-af41cdfde521"
      },
      "source": [
        "df5.loc[(df5['title_field'] == 'Occupied Housing Units') | (df5['title_field'] == 'Vacant Housing Units')]"
      ],
      "execution_count": null,
      "outputs": [
        {
          "output_type": "execute_result",
          "data": {
            "text/html": [
              "<div>\n",
              "<style scoped>\n",
              "    .dataframe tbody tr th:only-of-type {\n",
              "        vertical-align: middle;\n",
              "    }\n",
              "\n",
              "    .dataframe tbody tr th {\n",
              "        vertical-align: top;\n",
              "    }\n",
              "\n",
              "    .dataframe thead th {\n",
              "        text-align: right;\n",
              "    }\n",
              "</style>\n",
              "<table border=\"1\" class=\"dataframe\">\n",
              "  <thead>\n",
              "    <tr style=\"text-align: right;\">\n",
              "      <th></th>\n",
              "      <th>year</th>\n",
              "      <th>title_field</th>\n",
              "      <th>value</th>\n",
              "    </tr>\n",
              "  </thead>\n",
              "  <tbody>\n",
              "    <tr>\n",
              "      <th>2</th>\n",
              "      <td>2014</td>\n",
              "      <td>Occupied Housing Units</td>\n",
              "      <td>46295</td>\n",
              "    </tr>\n",
              "    <tr>\n",
              "      <th>19</th>\n",
              "      <td>2008</td>\n",
              "      <td>Vacant Housing Units</td>\n",
              "      <td>4483</td>\n",
              "    </tr>\n",
              "  </tbody>\n",
              "</table>\n",
              "</div>"
            ],
            "text/plain": [
              "    year             title_field  value\n",
              "2   2014  Occupied Housing Units  46295\n",
              "19  2008    Vacant Housing Units   4483"
            ]
          },
          "metadata": {
            "tags": []
          },
          "execution_count": 147
        }
      ]
    },
    {
      "cell_type": "code",
      "metadata": {
        "id": "ZxDZEkPS1cZW",
        "colab": {
          "base_uri": "https://localhost:8080/",
          "height": 254
        },
        "outputId": "9cd8b286-2bef-47ae-f784-e10125f92f72"
      },
      "source": [
        "#(4) Calculate the harmonic mean of the total housing units and print it out. You can find the information about harmonic mean here:\n",
        "\n",
        "f2 = df.loc[df['title_field']=='Total Housing Units']\n",
        "f2"
      ],
      "execution_count": null,
      "outputs": [
        {
          "output_type": "execute_result",
          "data": {
            "text/html": [
              "<div>\n",
              "<style scoped>\n",
              "    .dataframe tbody tr th:only-of-type {\n",
              "        vertical-align: middle;\n",
              "    }\n",
              "\n",
              "    .dataframe tbody tr th {\n",
              "        vertical-align: top;\n",
              "    }\n",
              "\n",
              "    .dataframe thead th {\n",
              "        text-align: right;\n",
              "    }\n",
              "</style>\n",
              "<table border=\"1\" class=\"dataframe\">\n",
              "  <thead>\n",
              "    <tr style=\"text-align: right;\">\n",
              "      <th></th>\n",
              "      <th>year</th>\n",
              "      <th>title_field</th>\n",
              "      <th>value</th>\n",
              "    </tr>\n",
              "  </thead>\n",
              "  <tbody>\n",
              "    <tr>\n",
              "      <th>0</th>\n",
              "      <td>2014</td>\n",
              "      <td>Total Housing Units</td>\n",
              "      <td>49109</td>\n",
              "    </tr>\n",
              "    <tr>\n",
              "      <th>3</th>\n",
              "      <td>2013</td>\n",
              "      <td>Total Housing Units</td>\n",
              "      <td>47888</td>\n",
              "    </tr>\n",
              "    <tr>\n",
              "      <th>6</th>\n",
              "      <td>2012</td>\n",
              "      <td>Total Housing Units</td>\n",
              "      <td>45121</td>\n",
              "    </tr>\n",
              "    <tr>\n",
              "      <th>9</th>\n",
              "      <td>2011</td>\n",
              "      <td>Total Housing Units</td>\n",
              "      <td>44917</td>\n",
              "    </tr>\n",
              "    <tr>\n",
              "      <th>12</th>\n",
              "      <td>2010</td>\n",
              "      <td>Total Housing Units</td>\n",
              "      <td>44642</td>\n",
              "    </tr>\n",
              "    <tr>\n",
              "      <th>15</th>\n",
              "      <td>2009</td>\n",
              "      <td>Total Housing Units</td>\n",
              "      <td>39499</td>\n",
              "    </tr>\n",
              "    <tr>\n",
              "      <th>18</th>\n",
              "      <td>2008</td>\n",
              "      <td>Total Housing Units</td>\n",
              "      <td>41194</td>\n",
              "    </tr>\n",
              "  </tbody>\n",
              "</table>\n",
              "</div>"
            ],
            "text/plain": [
              "    year          title_field  value\n",
              "0   2014  Total Housing Units  49109\n",
              "3   2013  Total Housing Units  47888\n",
              "6   2012  Total Housing Units  45121\n",
              "9   2011  Total Housing Units  44917\n",
              "12  2010  Total Housing Units  44642\n",
              "15  2009  Total Housing Units  39499\n",
              "18  2008  Total Housing Units  41194"
            ]
          },
          "metadata": {
            "tags": []
          },
          "execution_count": 150
        }
      ]
    },
    {
      "cell_type": "code",
      "metadata": {
        "id": "3bloTN0P5Y8Q",
        "colab": {
          "base_uri": "https://localhost:8080/",
          "height": 50
        },
        "outputId": "6b73caf9-21b9-4da5-922a-7bfdc35a2874"
      },
      "source": [
        "!pip install scipy\n"
      ],
      "execution_count": null,
      "outputs": [
        {
          "output_type": "stream",
          "text": [
            "Requirement already satisfied: scipy in /usr/local/lib/python3.6/dist-packages (1.4.1)\n",
            "Requirement already satisfied: numpy>=1.13.3 in /usr/local/lib/python3.6/dist-packages (from scipy) (1.17.5)\n"
          ],
          "name": "stdout"
        }
      ]
    },
    {
      "cell_type": "code",
      "metadata": {
        "id": "UvYmo0hF5c47",
        "colab": {
          "base_uri": "https://localhost:8080/",
          "height": 34
        },
        "outputId": "afe84972-6247-4cdb-bca8-bb7e69d9e487"
      },
      "source": [
        "from scipy import stats\n",
        "scipy.stats.hmean(f2.iloc[:,2],axis = 0)"
      ],
      "execution_count": null,
      "outputs": [
        {
          "output_type": "execute_result",
          "data": {
            "text/plain": [
              "44398.28543969185"
            ]
          },
          "metadata": {
            "tags": []
          },
          "execution_count": 157
        }
      ]
    }
  ]
}