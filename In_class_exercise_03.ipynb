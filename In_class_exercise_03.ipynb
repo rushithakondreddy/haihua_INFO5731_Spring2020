{
  "nbformat": 4,
  "nbformat_minor": 0,
  "metadata": {
    "kernelspec": {
      "display_name": "Python 3",
      "language": "python",
      "name": "python3"
    },
    "language_info": {
      "codemirror_mode": {
        "name": "ipython",
        "version": 3
      },
      "file_extension": ".py",
      "mimetype": "text/x-python",
      "name": "python",
      "nbconvert_exporter": "python",
      "pygments_lexer": "ipython3",
      "version": "3.7.4"
    },
    "colab": {
      "name": "In-class-exercise-03.ipynb",
      "provenance": [],
      "include_colab_link": true
    }
  },
  "cells": [
    {
      "cell_type": "markdown",
      "metadata": {
        "id": "view-in-github",
        "colab_type": "text"
      },
      "source": [
        "<a href=\"https://colab.research.google.com/github/rushithakondreddy/haihua_INFO5731_Spring2020/blob/main/In_class_exercise_03.ipynb\" target=\"_parent\"><img src=\"https://colab.research.google.com/assets/colab-badge.svg\" alt=\"Open In Colab\"/></a>"
      ]
    },
    {
      "cell_type": "markdown",
      "metadata": {
        "id": "vb1dUOvdvSkz"
      },
      "source": [
        "## The third In-class-exercise (9/16/2020, 20 points in total)"
      ]
    },
    {
      "cell_type": "code",
      "metadata": {
        "colab": {
          "base_uri": "https://localhost:8080/"
        },
        "id": "dXoi2AFUwQc6",
        "outputId": "2ae150e7-fc10-4a23-c532-f8d4b2a0b005"
      },
      "source": [
        "!pip install pytrends"
      ],
      "execution_count": 7,
      "outputs": [
        {
          "output_type": "stream",
          "text": [
            "Collecting pytrends\n",
            "  Downloading https://files.pythonhosted.org/packages/96/53/a4a74c33bfdbe1740183e00769377352072e64182913562daf9f5e4f1938/pytrends-4.7.3-py3-none-any.whl\n",
            "Requirement already satisfied: requests in /usr/local/lib/python3.6/dist-packages (from pytrends) (2.23.0)\n",
            "Requirement already satisfied: pandas>=0.25 in /usr/local/lib/python3.6/dist-packages (from pytrends) (1.1.5)\n",
            "Requirement already satisfied: lxml in /usr/local/lib/python3.6/dist-packages (from pytrends) (4.2.6)\n",
            "Requirement already satisfied: chardet<4,>=3.0.2 in /usr/local/lib/python3.6/dist-packages (from requests->pytrends) (3.0.4)\n",
            "Requirement already satisfied: certifi>=2017.4.17 in /usr/local/lib/python3.6/dist-packages (from requests->pytrends) (2020.12.5)\n",
            "Requirement already satisfied: idna<3,>=2.5 in /usr/local/lib/python3.6/dist-packages (from requests->pytrends) (2.10)\n",
            "Requirement already satisfied: urllib3!=1.25.0,!=1.25.1,<1.26,>=1.21.1 in /usr/local/lib/python3.6/dist-packages (from requests->pytrends) (1.24.3)\n",
            "Requirement already satisfied: python-dateutil>=2.7.3 in /usr/local/lib/python3.6/dist-packages (from pandas>=0.25->pytrends) (2.8.1)\n",
            "Requirement already satisfied: numpy>=1.15.4 in /usr/local/lib/python3.6/dist-packages (from pandas>=0.25->pytrends) (1.19.5)\n",
            "Requirement already satisfied: pytz>=2017.2 in /usr/local/lib/python3.6/dist-packages (from pandas>=0.25->pytrends) (2018.9)\n",
            "Requirement already satisfied: six>=1.5 in /usr/local/lib/python3.6/dist-packages (from python-dateutil>=2.7.3->pandas>=0.25->pytrends) (1.15.0)\n",
            "Installing collected packages: pytrends\n",
            "Successfully installed pytrends-4.7.3\n"
          ],
          "name": "stdout"
        }
      ]
    },
    {
      "cell_type": "markdown",
      "metadata": {
        "id": "gMO_DCguvSlA"
      },
      "source": [
        "The purpose of this exercise is to under users' information needs, then collect the data for analysis."
      ]
    },
    {
      "cell_type": "markdown",
      "metadata": {
        "id": "M2rKtLO-vSlF"
      },
      "source": [
        "Question 1 (8 points): Describe an interesting research question (or practical question) you have in mind, what kind of data should be collected to answer the question(s)? How many data needed for the analysis? The detail steps for collecting and save the data. "
      ]
    },
    {
      "cell_type": "code",
      "metadata": {
        "id": "mRA8WKOUvSlH"
      },
      "source": [
        "# Your answer here (no code for this question, write down your answer as detail as possible for the above questions):\n",
        "\n",
        "'''\n",
        "Please write you answer here:\n",
        "\n",
        "\n",
        "AIM: My research query is to find out the IMDB meta-score(ratings) of the Korean language films for the particular genre.\n",
        "Data Collecting:\n",
        "We need to provide the data from the top 500 IMDB ratings of the films that have been given according to the genre and the total runtime of the film in the data collection.\n",
        "Here, the IMDB Top 1000 ratings website shows us all the information that need to be found in the research issue, so I used the webscrapping website for this.\n",
        "\n",
        "Steps for Collection and Saving the Data:\n",
        "Beautiful Soup allows us to pull unique content from a website, so I used this to pull the content from my website.\n",
        "I wanted to collect 'Movie Title', 'Genre', 'Run Time', 'Meta Score' using class.\n",
        "I have created an empty list and append the collected data into the list. \n",
        "Then i have created a dataframe form the list and converted into csv file.\n",
        "\n",
        "\n",
        "\n",
        "\n",
        "\n",
        "'''"
      ],
      "execution_count": null,
      "outputs": []
    },
    {
      "cell_type": "markdown",
      "metadata": {
        "id": "I5HT7UCNvSlJ"
      },
      "source": [
        "Question 2 (12 points): Write python code to collect 500 items of the data you plan to collect above."
      ]
    },
    {
      "cell_type": "code",
      "metadata": {
        "colab": {
          "base_uri": "https://localhost:8080/",
          "height": 436
        },
        "id": "lAL2Gs2cvXp2",
        "outputId": "2ddea6e6-2cf9-489e-a2ef-ad781dc3d3a5"
      },
      "source": [
        "import re\r\n",
        "import requests\r\n",
        "from bs4 import BeautifulSoup\r\n",
        "import pandas as pd\r\n",
        "pagenumber = 101\r\n",
        "title = []\r\n",
        "genre = [] \r\n",
        "time = []\r\n",
        "metascore = []\r\n",
        "for k in range(7):\r\n",
        "  page_link = 'https://www.imdb.com/search/title/?groups=top_1000&sort=user_rating,desc&count=100&start=' + str(pagenumber) + '&ref_=adv_nxt' #Providing the link for the website\r\n",
        "  page = requests.get(page_link) #Accessing to the website we wanted to webscrap\r\n",
        "  soup = BeautifulSoup(page.text, 'html.parser')\r\n",
        "  soup.find_all(\"a\", href=re.compile(\"title/tt\"))\r\n",
        "  #Getting the details of the movie title, genre, runtime and the metascore.\r\n",
        "  movie_title = soup.find_all(\"a\", href=lambda href: href and \"title/tt\" in href)\r\n",
        "  movie_genre = soup.find_all(class_='genre')\r\n",
        "  movie_time = soup.find_all(class_='runtime')\r\n",
        "  movie_meatscore = soup.find_all(class_='metascore')\r\n",
        "  for ele in movie_title:\r\n",
        "    if ele.text is not None and ele.text != 'X' and ele.text != ' \\n':\r\n",
        "      title.append(ele.text)\r\n",
        "  for i in movie_genre:\r\n",
        "    genre.append((i.text.replace('\\n','')).strip())\r\n",
        "  for item in movie_time:\r\n",
        "    time.append(item.text)\r\n",
        "  for j in movie_meatscore:\r\n",
        "    metascore.append(j.text) #Appending the collected data\r\n",
        "  pagenumber = pagenumber + 100\r\n",
        "movie_df = pd.DataFrame(list(zip(title, genre, time, metascore)), #Creating an dataframe and converting into csv.\r\n",
        "               columns =['Movie Title', 'Genre', 'Run Time', 'Meta Score'])\r\n",
        "print(len(movie_df))\r\n",
        "movie_df.to_csv('movies.csv', index=False)\r\n",
        "movie_df"
      ],
      "execution_count": 13,
      "outputs": [
        {
          "output_type": "stream",
          "text": [
            "572\n"
          ],
          "name": "stdout"
        },
        {
          "output_type": "execute_result",
          "data": {
            "text/html": [
              "<div>\n",
              "<style scoped>\n",
              "    .dataframe tbody tr th:only-of-type {\n",
              "        vertical-align: middle;\n",
              "    }\n",
              "\n",
              "    .dataframe tbody tr th {\n",
              "        vertical-align: top;\n",
              "    }\n",
              "\n",
              "    .dataframe thead th {\n",
              "        text-align: right;\n",
              "    }\n",
              "</style>\n",
              "<table border=\"1\" class=\"dataframe\">\n",
              "  <thead>\n",
              "    <tr style=\"text-align: right;\">\n",
              "      <th></th>\n",
              "      <th>Movie Title</th>\n",
              "      <th>Genre</th>\n",
              "      <th>Run Time</th>\n",
              "      <th>Meta Score</th>\n",
              "    </tr>\n",
              "  </thead>\n",
              "  <tbody>\n",
              "    <tr>\n",
              "      <th>0</th>\n",
              "      <td>心靈捕手</td>\n",
              "      <td>Drama, Romance</td>\n",
              "      <td>126 min</td>\n",
              "      <td>70</td>\n",
              "    </tr>\n",
              "    <tr>\n",
              "      <th>1</th>\n",
              "      <td>天堂的孩子</td>\n",
              "      <td>Drama, Family, Sport</td>\n",
              "      <td>89 min</td>\n",
              "      <td>77</td>\n",
              "    </tr>\n",
              "    <tr>\n",
              "      <th>2</th>\n",
              "      <td>玩具總動員</td>\n",
              "      <td>Animation, Adventure, Comedy</td>\n",
              "      <td>81 min</td>\n",
              "      <td>95</td>\n",
              "    </tr>\n",
              "    <tr>\n",
              "      <th>3</th>\n",
              "      <td>梅爾吉勃遜之英雄本色</td>\n",
              "      <td>Biography, Drama, History</td>\n",
              "      <td>178 min</td>\n",
              "      <td>68</td>\n",
              "    </tr>\n",
              "    <tr>\n",
              "      <th>4</th>\n",
              "      <td>霸道橫行</td>\n",
              "      <td>Crime, Drama, Thriller</td>\n",
              "      <td>99 min</td>\n",
              "      <td>79</td>\n",
              "    </tr>\n",
              "    <tr>\n",
              "      <th>...</th>\n",
              "      <td>...</td>\n",
              "      <td>...</td>\n",
              "      <td>...</td>\n",
              "      <td>...</td>\n",
              "    </tr>\n",
              "    <tr>\n",
              "      <th>567</th>\n",
              "      <td>四海情深</td>\n",
              "      <td>Action, Crime, Thriller</td>\n",
              "      <td>131 min</td>\n",
              "      <td>74</td>\n",
              "    </tr>\n",
              "    <tr>\n",
              "      <th>568</th>\n",
              "      <td>Batman: Mask of the Phantasm</td>\n",
              "      <td>Comedy, Drama</td>\n",
              "      <td>129 min</td>\n",
              "      <td>85</td>\n",
              "    </tr>\n",
              "    <tr>\n",
              "      <th>569</th>\n",
              "      <td>鎗神</td>\n",
              "      <td>Drama, Fantasy, Music</td>\n",
              "      <td>98 min</td>\n",
              "      <td>74</td>\n",
              "    </tr>\n",
              "    <tr>\n",
              "      <th>570</th>\n",
              "      <td>地球之夜</td>\n",
              "      <td>Crime, Drama</td>\n",
              "      <td>112 min</td>\n",
              "      <td>62</td>\n",
              "    </tr>\n",
              "    <tr>\n",
              "      <th>571</th>\n",
              "      <td>雙面薇若妮卡</td>\n",
              "      <td>Drama, Thriller</td>\n",
              "      <td>107 min</td>\n",
              "      <td>69</td>\n",
              "    </tr>\n",
              "  </tbody>\n",
              "</table>\n",
              "<p>572 rows × 4 columns</p>\n",
              "</div>"
            ],
            "text/plain": [
              "                      Movie Title  ...  Meta Score\n",
              "0                            心靈捕手  ...  70        \n",
              "1                           天堂的孩子  ...  77        \n",
              "2                           玩具總動員  ...  95        \n",
              "3                      梅爾吉勃遜之英雄本色  ...  68        \n",
              "4                            霸道橫行  ...  79        \n",
              "..                            ...  ...         ...\n",
              "567                          四海情深  ...  74        \n",
              "568  Batman: Mask of the Phantasm  ...  85        \n",
              "569                            鎗神  ...  74        \n",
              "570                          地球之夜  ...  62        \n",
              "571                        雙面薇若妮卡  ...  69        \n",
              "\n",
              "[572 rows x 4 columns]"
            ]
          },
          "metadata": {
            "tags": []
          },
          "execution_count": 13
        }
      ]
    }
  ]
}